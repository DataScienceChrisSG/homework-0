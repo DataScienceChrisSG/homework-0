{
  "cells": [
    {
      "cell_type": "markdown",
      "metadata": {
        "id": "view-in-github",
        "colab_type": "text"
      },
      "source": [
        "<a href=\"https://colab.research.google.com/github/DataScienceChrisSG/homework-0/blob/main/DC_Bootcamp_Week_1_part3.ipynb\" target=\"_parent\"><img src=\"https://colab.research.google.com/assets/colab-badge.svg\" alt=\"Open In Colab\"/></a>"
      ]
    },
    {
      "cell_type": "markdown",
      "metadata": {
        "id": "jIiDswEILmoa"
      },
      "source": [
        "# List, Tuple, Dictionary, Set Operations"
      ]
    },
    {
      "cell_type": "markdown",
      "metadata": {
        "id": "IApfrCrzLmod"
      },
      "source": [
        "## Run The Following Code\n",
        "Hit SHIFT + ENTER when your cusor is inside the cell of code.<br/>"
      ]
    },
    {
      "cell_type": "markdown",
      "metadata": {
        "id": "6NMw3r3wLmoe"
      },
      "source": [
        "> Create a variable to hold the values \"apple\", \"banana\", \"chiku\", \"durian\". Assign them to the variable <b>store</b> using a list."
      ]
    },
    {
      "cell_type": "code",
      "execution_count": null,
      "metadata": {
        "id": "o_l3gO36Lmof"
      },
      "outputs": [],
      "source": [
        "store = [\"apple\", \"banana\", \"chiku\", \"durian\"]\n",
        "print(store)"
      ]
    },
    {
      "cell_type": "code",
      "execution_count": null,
      "metadata": {
        "id": "a-oh1WqALmoh"
      },
      "outputs": [],
      "source": [
        "type(store)"
      ]
    },
    {
      "cell_type": "code",
      "execution_count": null,
      "metadata": {
        "id": "e9Y8H7NQLmoh"
      },
      "outputs": [],
      "source": [
        "#print out banana\n",
        "store[1]"
      ]
    },
    {
      "cell_type": "markdown",
      "metadata": {
        "id": "xD5z8ngbLmoi"
      },
      "source": [
        "> Use a tuple instead."
      ]
    },
    {
      "cell_type": "code",
      "execution_count": null,
      "metadata": {
        "id": "dngkCuebLmoj"
      },
      "outputs": [],
      "source": [
        "store_tuple = (\"apple\", \"banana\", \"chiku\", \"durian\")\n",
        "print(store_tuple)"
      ]
    },
    {
      "cell_type": "code",
      "execution_count": null,
      "metadata": {
        "id": "JSZqqGk2Lmok"
      },
      "outputs": [],
      "source": [
        "type(store_tuple)"
      ]
    },
    {
      "cell_type": "code",
      "execution_count": null,
      "metadata": {
        "id": "bIkCvRjbLmol"
      },
      "outputs": [],
      "source": [
        "#print out banana\n",
        "store_tuple[1]"
      ]
    },
    {
      "cell_type": "markdown",
      "metadata": {
        "id": "2OrBPBYALmol"
      },
      "source": [
        "> Using tuples to swap values in a variable"
      ]
    },
    {
      "cell_type": "code",
      "execution_count": null,
      "metadata": {
        "id": "kmxvhcWfLmom"
      },
      "outputs": [],
      "source": [
        "x = input(\"Key in a name: \")"
      ]
    },
    {
      "cell_type": "code",
      "execution_count": null,
      "metadata": {
        "id": "-QU4fbwVLmom"
      },
      "outputs": [],
      "source": [
        "y = input(\"Key in another name: \")"
      ]
    },
    {
      "cell_type": "code",
      "execution_count": null,
      "metadata": {
        "id": "R_Z6X0F7Lmom"
      },
      "outputs": [],
      "source": [
        "print(x)\n",
        "print(y)"
      ]
    },
    {
      "cell_type": "code",
      "execution_count": null,
      "metadata": {
        "id": "1x4LSYRdLmom"
      },
      "outputs": [],
      "source": [
        "#Using another variable, swap the values of x with y.\n",
        "<..>"
      ]
    },
    {
      "cell_type": "code",
      "execution_count": null,
      "metadata": {
        "id": "zsP5Kj5WLmom"
      },
      "outputs": [],
      "source": [
        "print(x)\n",
        "print(y)"
      ]
    },
    {
      "cell_type": "code",
      "execution_count": null,
      "metadata": {
        "id": "-I4cnmPJLmom"
      },
      "outputs": [],
      "source": [
        "#Without using another variable, swap the values of x with y.\n",
        "<..>"
      ]
    },
    {
      "cell_type": "code",
      "execution_count": null,
      "metadata": {
        "id": "0uyh-xzULmon"
      },
      "outputs": [],
      "source": [
        "print(x)\n",
        "print(y)"
      ]
    },
    {
      "cell_type": "markdown",
      "metadata": {
        "id": "n8-3TkHDLmon"
      },
      "source": [
        "> Use a dictionary instead."
      ]
    },
    {
      "cell_type": "code",
      "execution_count": null,
      "metadata": {
        "id": "hnbhm2vMLmon"
      },
      "outputs": [],
      "source": [
        "store_dict = {\"fruit1\":\"apple\", \"fruit2\":\"banana\", \"fruit3\":\"chiku\", \"fruit4\":\"durian\"}\n",
        "print(store_dict)"
      ]
    },
    {
      "cell_type": "code",
      "execution_count": null,
      "metadata": {
        "id": "m07s5ernLmon"
      },
      "outputs": [],
      "source": [
        "type(store_dict)"
      ]
    },
    {
      "cell_type": "code",
      "execution_count": null,
      "metadata": {
        "id": "r21wGlJgLmon"
      },
      "outputs": [],
      "source": [
        "store_dict.keys()"
      ]
    },
    {
      "cell_type": "code",
      "execution_count": null,
      "metadata": {
        "id": "g4NbELd2Lmoo"
      },
      "outputs": [],
      "source": [
        "store_dict.values()"
      ]
    },
    {
      "cell_type": "code",
      "execution_count": null,
      "metadata": {
        "id": "hnT0DVv3Lmoo"
      },
      "outputs": [],
      "source": [
        "#print out banana\n",
        "store_dict['fruit2']"
      ]
    },
    {
      "cell_type": "markdown",
      "metadata": {
        "id": "d6A90BX5Lmoo"
      },
      "source": [
        "> Use a set instead."
      ]
    },
    {
      "cell_type": "code",
      "execution_count": null,
      "metadata": {
        "id": "SGfjC636Lmoo"
      },
      "outputs": [],
      "source": [
        "store_set = {\"apple\", \"banana\", \"chiku\", \"durian\"}\n",
        "print(store_set)"
      ]
    },
    {
      "cell_type": "code",
      "execution_count": null,
      "metadata": {
        "id": "ix0qqLCJLmoo"
      },
      "outputs": [],
      "source": [
        "type(store_set)"
      ]
    },
    {
      "cell_type": "code",
      "execution_count": null,
      "metadata": {
        "id": "6A9Vq3jVLmoo"
      },
      "outputs": [],
      "source": []
    },
    {
      "cell_type": "markdown",
      "metadata": {
        "id": "647TGS8JLmoo"
      },
      "source": [
        "# !! Your Turn !!"
      ]
    },
    {
      "cell_type": "markdown",
      "metadata": {
        "id": "bbnG73MaLmop"
      },
      "source": [
        "## Replace the code marked as <..> COMPLETELY with your own.\n",
        "For example:\n",
        "length = <..> will be replaced by length = 10"
      ]
    },
    {
      "cell_type": "markdown",
      "metadata": {
        "id": "iNJstAAsLmop"
      },
      "source": [
        "# Question 1\n",
        "1) Store [2,4,6,8,10] into a variable data<br/>\n",
        "2) Print out the 1st element in this list."
      ]
    },
    {
      "cell_type": "code",
      "execution_count": null,
      "metadata": {
        "id": "5p7eWiXELmop"
      },
      "outputs": [],
      "source": [
        "data = <..>\n",
        "print(<..>) #You should see the output 2"
      ]
    },
    {
      "cell_type": "markdown",
      "metadata": {
        "id": "msVHoP2ULmop"
      },
      "source": [
        "# Question 2"
      ]
    },
    {
      "cell_type": "markdown",
      "metadata": {
        "id": "A7paLhZcLmop"
      },
      "source": [
        "1) Store [1,3,5,7,9] into a variable data2<br/>\n",
        "2) Print out the 3rd element in this list."
      ]
    },
    {
      "cell_type": "code",
      "execution_count": null,
      "metadata": {
        "id": "zIcYyoGULmoq"
      },
      "outputs": [],
      "source": [
        "data2 = <..>\n",
        "print(<..>) #You should see the output 5"
      ]
    },
    {
      "cell_type": "markdown",
      "metadata": {
        "id": "VXVdDEQYLmoq"
      },
      "source": [
        "# Question 3\n",
        "1) Concatenate the two lists <b>data</b> and <b>data2</b> together into a variable, <b>data3</b>.<br/>\n",
        "2) Print them out.<br/>"
      ]
    },
    {
      "cell_type": "code",
      "execution_count": null,
      "metadata": {
        "id": "VXRPDsMqLmoq"
      },
      "outputs": [],
      "source": [
        "<..> = <..> + <..>\n",
        "print(<..>)"
      ]
    },
    {
      "cell_type": "markdown",
      "metadata": {
        "id": "C0-PJuIXLmoq"
      },
      "source": [
        "3) If they are not in the correct running sequence, sort them.<br/>\n",
        "4) Print it out"
      ]
    },
    {
      "cell_type": "code",
      "execution_count": null,
      "metadata": {
        "id": "d56G7f4rLmoq"
      },
      "outputs": [],
      "source": [
        "<..>.<..>\n",
        "print(<..>)"
      ]
    },
    {
      "cell_type": "markdown",
      "metadata": {
        "id": "b8i3fbjtLmoq"
      },
      "source": [
        "# Question 4\n",
        "\n",
        "Let's try out mathematical operators on the lists and see if they work. <br/>\n",
        "1) Multiply the list, <b>data3</b>, by 2. What do you see?<br/>"
      ]
    },
    {
      "cell_type": "code",
      "execution_count": null,
      "metadata": {
        "id": "K-t7jNCxLmor"
      },
      "outputs": [],
      "source": [
        "print(<..> * 2)"
      ]
    },
    {
      "cell_type": "markdown",
      "metadata": {
        "id": "HOB8ijW2Lmor"
      },
      "source": [
        "<i>Tips: Try out the other mathematical operators in the boxes below. Some may not work and may produce errors</i> "
      ]
    },
    {
      "cell_type": "code",
      "execution_count": null,
      "metadata": {
        "id": "spd-gqIGLmor"
      },
      "outputs": [],
      "source": [
        "#use +\n",
        "print(<..> + <..>)"
      ]
    },
    {
      "cell_type": "code",
      "execution_count": null,
      "metadata": {
        "id": "cdU0afLgLmos"
      },
      "outputs": [],
      "source": [
        "#use -\n",
        "print(<..> - <..>)"
      ]
    },
    {
      "cell_type": "code",
      "execution_count": null,
      "metadata": {
        "id": "yaOknaacLmos"
      },
      "outputs": [],
      "source": [
        "#use /\n",
        "print(<..> / <..>)"
      ]
    },
    {
      "cell_type": "markdown",
      "metadata": {
        "id": "0L5PGGRaLmos"
      },
      "source": [
        "<i>This shows that you cannot apply mathematical operators to a list the way you would to numeric data types.</i> "
      ]
    },
    {
      "cell_type": "markdown",
      "metadata": {
        "id": "XX1zQ4NrLmos"
      },
      "source": [
        "# Question 5\n",
        "1) Create a variable, <b>storage</b>, that stores the following:<br/><br/>\n",
        "table<br/>\n",
        "chair<br/>\n",
        "fridge<br/>\n",
        "washing machine<br/><br/>\n",
        "2) print out the variable storage and verify the contents.\n",
        "Hint: You should see ['table', 'chair', 'fridge', 'washing machine']"
      ]
    },
    {
      "cell_type": "code",
      "execution_count": null,
      "metadata": {
        "id": "7Bxnk-zeLmos"
      },
      "outputs": [],
      "source": [
        "storage = <..>\n",
        "print(<..>)"
      ]
    },
    {
      "cell_type": "markdown",
      "metadata": {
        "id": "fMbUmAZoLmos"
      },
      "source": [
        "# Question 6\n",
        "1) You can add \"aircon\" into storage by doing <b>storage.append(\"aircon\")</b>.<br/>\n",
        "2) Do that, and print out the new storage variable to verify that \"aircon\" has been added.<br/>\n",
        "Hint: You should see ['table', 'chair', 'fridge', 'washing machine', 'aircon']"
      ]
    },
    {
      "cell_type": "code",
      "execution_count": null,
      "metadata": {
        "id": "lnA9yEhmLmos"
      },
      "outputs": [],
      "source": [
        "storage = <..>\n",
        "storage.append(<..>)\n",
        "print(<..>)"
      ]
    },
    {
      "cell_type": "markdown",
      "metadata": {
        "id": "6dZThfKULmos"
      },
      "source": [
        "# Question 7\n",
        "1) You can remove \"chair\" from storage by doing <b>storage.remove(\"chair\")</b>.<br/>\n",
        "2) Do that, and print out the new storage variable to verify that \"chair\" has been removed.<br/>\n",
        "Hint: You should see ['table', 'fridge', 'washing machine', 'aircon']"
      ]
    },
    {
      "cell_type": "code",
      "execution_count": null,
      "metadata": {
        "id": "3DqowC_uLmos"
      },
      "outputs": [],
      "source": [
        "storage.<..>(<..>)\n",
        "print(<..>)"
      ]
    },
    {
      "cell_type": "markdown",
      "metadata": {
        "id": "JeXGlL2mLmos"
      },
      "source": [
        "# Question 8\n",
        "1) <b>|value| in storage</b> allows you to check whether an item is inside the list.<br/>\n",
        "2) For example, <b>\"table\" in storage</b> will return true.<br/>\n",
        "3) Write the code to check if the item \"fridge\" is inside storage.<br/>"
      ]
    },
    {
      "cell_type": "code",
      "execution_count": null,
      "metadata": {
        "id": "8CCP_71hLmos"
      },
      "outputs": [],
      "source": [
        "storage = <..>\n",
        "print(<..> in <..>)"
      ]
    },
    {
      "cell_type": "markdown",
      "metadata": {
        "id": "Z_lmdCWNLmot"
      },
      "source": [
        "# Question 9\n",
        "1) Create a dictionary, <b>postal_to_town</b> that stores the following key-value pairs.<br/>\n",
        "760702 --> Yishun\n",
        "530406 --> Hougang\n",
        "600212 --> Jurong East"
      ]
    },
    {
      "cell_type": "code",
      "execution_count": null,
      "metadata": {
        "id": "MBM2jazxLmot"
      },
      "outputs": [],
      "source": [
        "postal_to_town = {\n",
        "    <..>: <..>,\n",
        "    <..>: <..>,\n",
        "    <..>: <..>\n",
        "}"
      ]
    },
    {
      "cell_type": "markdown",
      "metadata": {
        "id": "m_T7GJ57Lmot"
      },
      "source": [
        "2) Print out the town by referencing postal '760702'<br/>\n",
        "You should see Yishun"
      ]
    },
    {
      "cell_type": "code",
      "execution_count": null,
      "metadata": {
        "id": "5BlH_0RTLmot"
      },
      "outputs": [],
      "source": [
        "<..>"
      ]
    },
    {
      "cell_type": "markdown",
      "metadata": {
        "id": "QicCs8KTLmot"
      },
      "source": [
        "3) Print out the town by referencing postal '530406'<br/>\n",
        "You should see Hougang"
      ]
    },
    {
      "cell_type": "code",
      "execution_count": null,
      "metadata": {
        "id": "ePVCU67DLmou"
      },
      "outputs": [],
      "source": [
        "<..>"
      ]
    },
    {
      "cell_type": "markdown",
      "metadata": {
        "id": "pKjZFpd7Lmou"
      },
      "source": [
        "4) Print out the town by referencing postal '600212'<br/>\n",
        "You should see Jurong East"
      ]
    },
    {
      "cell_type": "code",
      "execution_count": null,
      "metadata": {
        "id": "NWjfioRQLmou"
      },
      "outputs": [],
      "source": [
        "<..>"
      ]
    },
    {
      "cell_type": "markdown",
      "metadata": {
        "id": "tU1dW2SVLmou"
      },
      "source": [
        "4) Print out the town by referencing postal '138577'<br/>\n",
        "What do you see?"
      ]
    },
    {
      "cell_type": "code",
      "execution_count": null,
      "metadata": {
        "id": "w98HcafVLmou"
      },
      "outputs": [],
      "source": [
        "<..>"
      ]
    },
    {
      "cell_type": "markdown",
      "metadata": {
        "id": "dhJeBRAOLmov"
      },
      "source": [
        "# Question 10*"
      ]
    },
    {
      "cell_type": "markdown",
      "metadata": {
        "id": "Qbau_oW1Lmov"
      },
      "source": [
        "1) Decide on a data type to use for the following use case: <br/>\n",
        "- I want to read in values and store them as I read them in sequentially.<br/>\n",
        "- Order matters.<br/>\n",
        "- Repeated values are ok.<br/>\n",
        "- I want to be able to remove some of the items too.<br/>\n",
        "\n",
        "2) When you have decided, create such a variable called <b>zoo2</b> and store the following values into it:<br/>\n",
        "- lion<br/>\n",
        "- tiger<br/>\n",
        "- giraffe<br/>\n",
        "- hippo<br/>\n",
        "- monkey<br/>"
      ]
    },
    {
      "cell_type": "code",
      "execution_count": null,
      "metadata": {
        "id": "5nwNqmqSLmov"
      },
      "outputs": [],
      "source": []
    },
    {
      "cell_type": "markdown",
      "metadata": {
        "id": "euUDXsoULmov"
      },
      "source": [
        "3) Write code into the cell below such that you will prompt the user to tell you an animal, then store it into the existing data in the variable <b>zoo2</b>.<br/>\n",
        "4) Then, run the cell below 3 times, and input the following values:<br/>\n",
        "- bird<br/>\n",
        "- panda<br/>\n",
        "- monkey<br/>"
      ]
    },
    {
      "cell_type": "code",
      "execution_count": null,
      "metadata": {
        "id": "7ORTUchNLmov"
      },
      "outputs": [],
      "source": []
    },
    {
      "cell_type": "markdown",
      "metadata": {
        "id": "1INRF5zvLmov"
      },
      "source": [
        "5) Print out the variable <b>zoo2</b>. It should contain the following in order:<br/>\n",
        "- lion<br/>\n",
        "- tiger<br>\n",
        "- giraffe<br>\n",
        "- hippo<br>\n",
        "- monkey<br>\n",
        "- bird<br>\n",
        "- panda<br>\n",
        "- monkey<br>"
      ]
    },
    {
      "cell_type": "code",
      "execution_count": null,
      "metadata": {
        "id": "iHQOGJDcLmov"
      },
      "outputs": [],
      "source": []
    },
    {
      "cell_type": "markdown",
      "metadata": {
        "id": "UeVVS4qnLmow"
      },
      "source": [
        "6) Write code into the cell below such that you will prompt the user to tell you an animal, then remove it from the existing data in the variable <b>zoo2</b>.<br/>\n",
        "7) Then, run the cell below 3 times, and input the following values:<br/>\n",
        "- tiger<br/>\n",
        "- monkey<br/>\n",
        "- giraffe<br/>"
      ]
    },
    {
      "cell_type": "code",
      "execution_count": null,
      "metadata": {
        "id": "MvgIxVxhLmow"
      },
      "outputs": [],
      "source": []
    },
    {
      "cell_type": "markdown",
      "metadata": {
        "id": "fyg8PGmqLmow"
      },
      "source": [
        "8) Print out the variable <b>zoo2</b>. It should contain the following in order:<br/>\n",
        "- lion<br/>\n",
        "- hippo<br>\n",
        "- bird<br>\n",
        "- panda<br>\n",
        "- monkey<br>"
      ]
    },
    {
      "cell_type": "code",
      "execution_count": null,
      "metadata": {
        "id": "WvyIHbj9Lmow"
      },
      "outputs": [],
      "source": []
    },
    {
      "cell_type": "markdown",
      "metadata": {
        "id": "y7nOsKvsLmow"
      },
      "source": [
        "# Question 11 *"
      ]
    },
    {
      "cell_type": "markdown",
      "metadata": {
        "id": "XonWEu4BLmow"
      },
      "source": [
        "1) Decide on a data type to use for the following use case: <br/>\n",
        "- I want to read in a pair of key and values and store them.<br/>\n",
        "- Order does not matter.<br/>\n",
        "- Repeated values are ok.<br/>\n",
        "- I want to be able to change some of the values for the keys too.<br/>\n",
        "\n",
        "2) When you have decided, create such a variable called <b>zoo3</b> and store the following key - values into it:<br/>\n",
        "- lion - c<br/>\n",
        "- tiger - h<br/>\n",
        "- giraffe - h<br/>\n",
        "- hippo - h<br/>\n",
        "- monkey - o<br/><br/>\n",
        "<i>Note: key is lion, value is c</i>"
      ]
    },
    {
      "cell_type": "code",
      "execution_count": null,
      "metadata": {
        "id": "iBVOOO6ILmow"
      },
      "outputs": [],
      "source": []
    },
    {
      "cell_type": "markdown",
      "metadata": {
        "id": "hhExmji2Lmow"
      },
      "source": [
        "3) Write code into the cell below such that you will prompt the user to tell you an animal.<br/>\n",
        "4) Then, run the cell below 1 time, and input the following values:<br/>\n",
        "- bird<br/>"
      ]
    },
    {
      "cell_type": "code",
      "execution_count": null,
      "metadata": {
        "id": "H38vcv1gLmow"
      },
      "outputs": [],
      "source": []
    },
    {
      "cell_type": "markdown",
      "metadata": {
        "id": "Rt8izejsLmow"
      },
      "source": [
        "5) Write code into the cell below such that you will prompt the user to tell you whether the animal is a carnivore, herbivore or omnivore.<br/>\n",
        "The user simply keys in c, h or o.<br/>\n",
        "6) Then, run the cell below 1 time, and input the following values:<br/>\n",
        "- o<br/>"
      ]
    },
    {
      "cell_type": "code",
      "execution_count": null,
      "metadata": {
        "id": "VPP5TJ70Lmox"
      },
      "outputs": [],
      "source": []
    },
    {
      "cell_type": "markdown",
      "metadata": {
        "id": "4qE87KzeLmox"
      },
      "source": [
        "7) Add the new animal and its dietary preference into <b>zoo3</b>.<br/>\n",
        "Print out <b>zoo3</b>."
      ]
    },
    {
      "cell_type": "code",
      "execution_count": null,
      "metadata": {
        "id": "WdfaHiccLmox"
      },
      "outputs": [],
      "source": []
    },
    {
      "cell_type": "markdown",
      "metadata": {
        "id": "BdyeTlwZLmox"
      },
      "source": [
        "8) You realised you made a mistake with the dietary preference for the tiger earlier on. Write the code to change it from an 'h' to a 'c'.<br/>\n",
        "Print out <b>zoo3</b>."
      ]
    },
    {
      "cell_type": "code",
      "execution_count": null,
      "metadata": {
        "id": "Zhek8BOrLmox"
      },
      "outputs": [],
      "source": []
    }
  ],
  "metadata": {
    "kernelspec": {
      "display_name": "Python 3 (ipykernel)",
      "language": "python",
      "name": "python3"
    },
    "language_info": {
      "codemirror_mode": {
        "name": "ipython",
        "version": 3
      },
      "file_extension": ".py",
      "mimetype": "text/x-python",
      "name": "python",
      "nbconvert_exporter": "python",
      "pygments_lexer": "ipython3",
      "version": "3.9.7"
    },
    "colab": {
      "provenance": [],
      "include_colab_link": true
    }
  },
  "nbformat": 4,
  "nbformat_minor": 0
}