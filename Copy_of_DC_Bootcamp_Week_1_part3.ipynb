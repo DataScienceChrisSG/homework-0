{
  "cells": [
    {
      "cell_type": "markdown",
      "metadata": {
        "id": "view-in-github",
        "colab_type": "text"
      },
      "source": [
        "<a href=\"https://colab.research.google.com/github/DataScienceChrisSG/homework-0/blob/main/Copy_of_DC_Bootcamp_Week_1_part3.ipynb\" target=\"_parent\"><img src=\"https://colab.research.google.com/assets/colab-badge.svg\" alt=\"Open In Colab\"/></a>"
      ]
    },
    {
      "cell_type": "markdown",
      "metadata": {
        "id": "jIiDswEILmoa"
      },
      "source": [
        "# List, Tuple, Dictionary, Set Operations"
      ]
    },
    {
      "cell_type": "markdown",
      "metadata": {
        "id": "IApfrCrzLmod"
      },
      "source": [
        "## Run The Following Code\n",
        "Hit SHIFT + ENTER when your cusor is inside the cell of code.<br/>"
      ]
    },
    {
      "cell_type": "markdown",
      "metadata": {
        "id": "6NMw3r3wLmoe"
      },
      "source": [
        "> Create a variable to hold the values \"apple\", \"banana\", \"chiku\", \"durian\". Assign them to the variable <b>store</b> using a list."
      ]
    },
    {
      "cell_type": "code",
      "execution_count": 1,
      "metadata": {
        "colab": {
          "base_uri": "https://localhost:8080/"
        },
        "id": "o_l3gO36Lmof",
        "outputId": "3021b704-4acb-4866-bf40-558ffe9fb86e"
      },
      "outputs": [
        {
          "output_type": "stream",
          "name": "stdout",
          "text": [
            "['apple', 'banana', 'chiku', 'durian']\n"
          ]
        }
      ],
      "source": [
        "store = [\"apple\", \"banana\", \"chiku\", \"durian\"]\n",
        "print(store)"
      ]
    },
    {
      "cell_type": "code",
      "execution_count": 2,
      "metadata": {
        "colab": {
          "base_uri": "https://localhost:8080/"
        },
        "id": "a-oh1WqALmoh",
        "outputId": "82d7f0d6-8ca1-4dca-cb97-9511c320ec1b"
      },
      "outputs": [
        {
          "output_type": "execute_result",
          "data": {
            "text/plain": [
              "list"
            ]
          },
          "metadata": {},
          "execution_count": 2
        }
      ],
      "source": [
        "type(store)"
      ]
    },
    {
      "cell_type": "code",
      "execution_count": 3,
      "metadata": {
        "colab": {
          "base_uri": "https://localhost:8080/",
          "height": 35
        },
        "id": "e9Y8H7NQLmoh",
        "outputId": "183758a1-59eb-4301-c749-06e4db18cc75"
      },
      "outputs": [
        {
          "output_type": "execute_result",
          "data": {
            "text/plain": [
              "'banana'"
            ],
            "application/vnd.google.colaboratory.intrinsic+json": {
              "type": "string"
            }
          },
          "metadata": {},
          "execution_count": 3
        }
      ],
      "source": [
        "#print out banana\n",
        "store[1]"
      ]
    },
    {
      "cell_type": "markdown",
      "metadata": {
        "id": "xD5z8ngbLmoi"
      },
      "source": [
        "> Use a tuple instead."
      ]
    },
    {
      "cell_type": "code",
      "execution_count": 4,
      "metadata": {
        "colab": {
          "base_uri": "https://localhost:8080/"
        },
        "id": "dngkCuebLmoj",
        "outputId": "c2fd5481-2055-47e0-e4d3-702179f04fd0"
      },
      "outputs": [
        {
          "output_type": "stream",
          "name": "stdout",
          "text": [
            "('apple', 'banana', 'chiku', 'durian')\n"
          ]
        }
      ],
      "source": [
        "store_tuple = (\"apple\", \"banana\", \"chiku\", \"durian\")\n",
        "print(store_tuple)"
      ]
    },
    {
      "cell_type": "code",
      "execution_count": 5,
      "metadata": {
        "colab": {
          "base_uri": "https://localhost:8080/"
        },
        "id": "JSZqqGk2Lmok",
        "outputId": "4c07efaa-c007-43c3-8a02-7ebf7bd04610"
      },
      "outputs": [
        {
          "output_type": "execute_result",
          "data": {
            "text/plain": [
              "tuple"
            ]
          },
          "metadata": {},
          "execution_count": 5
        }
      ],
      "source": [
        "type(store_tuple)"
      ]
    },
    {
      "cell_type": "code",
      "execution_count": 6,
      "metadata": {
        "colab": {
          "base_uri": "https://localhost:8080/",
          "height": 35
        },
        "id": "bIkCvRjbLmol",
        "outputId": "045f9e68-311e-4ea0-d534-6a797d69aeee"
      },
      "outputs": [
        {
          "output_type": "execute_result",
          "data": {
            "text/plain": [
              "'banana'"
            ],
            "application/vnd.google.colaboratory.intrinsic+json": {
              "type": "string"
            }
          },
          "metadata": {},
          "execution_count": 6
        }
      ],
      "source": [
        "#print out banana\n",
        "store_tuple[1]"
      ]
    },
    {
      "cell_type": "markdown",
      "metadata": {
        "id": "2OrBPBYALmol"
      },
      "source": [
        "> Using tuples to swap values in a variable"
      ]
    },
    {
      "cell_type": "code",
      "execution_count": 16,
      "metadata": {
        "colab": {
          "base_uri": "https://localhost:8080/"
        },
        "id": "kmxvhcWfLmom",
        "outputId": "de1a020f-ee01-419e-a315-9f8a3d5a08b1"
      },
      "outputs": [
        {
          "name": "stdout",
          "output_type": "stream",
          "text": [
            "Key in a name: A\n"
          ]
        }
      ],
      "source": [
        "x = input(\"Key in a name: \")"
      ]
    },
    {
      "cell_type": "code",
      "execution_count": 17,
      "metadata": {
        "colab": {
          "base_uri": "https://localhost:8080/"
        },
        "id": "-QU4fbwVLmom",
        "outputId": "75147a5d-a4fb-4779-fc3d-c2616ad58785"
      },
      "outputs": [
        {
          "name": "stdout",
          "output_type": "stream",
          "text": [
            "Key in another name: B\n"
          ]
        }
      ],
      "source": [
        "y = input(\"Key in another name: \")"
      ]
    },
    {
      "cell_type": "code",
      "execution_count": 18,
      "metadata": {
        "colab": {
          "base_uri": "https://localhost:8080/"
        },
        "id": "R_Z6X0F7Lmom",
        "outputId": "9654b753-a550-4cf7-f545-3758ac95ea70"
      },
      "outputs": [
        {
          "output_type": "stream",
          "name": "stdout",
          "text": [
            "A\n",
            "B\n"
          ]
        }
      ],
      "source": [
        "print(x)\n",
        "print(y)"
      ]
    },
    {
      "cell_type": "code",
      "execution_count": 19,
      "metadata": {
        "id": "1x4LSYRdLmom"
      },
      "outputs": [],
      "source": [
        "#Using another variable, swap the values of x with y.\n",
        "z = y\n",
        "y = x\n",
        "x = z"
      ]
    },
    {
      "cell_type": "code",
      "execution_count": 20,
      "metadata": {
        "colab": {
          "base_uri": "https://localhost:8080/"
        },
        "id": "zsP5Kj5WLmom",
        "outputId": "9e39681d-5c1a-4ef1-c9f6-ac5d6b5be032"
      },
      "outputs": [
        {
          "output_type": "stream",
          "name": "stdout",
          "text": [
            "B\n",
            "A\n"
          ]
        }
      ],
      "source": [
        "print(x)\n",
        "print(y)"
      ]
    },
    {
      "cell_type": "code",
      "execution_count": 21,
      "metadata": {
        "id": "-I4cnmPJLmom"
      },
      "outputs": [],
      "source": [
        "#Without using another variable, swap the values of x with y.\n"
      ]
    },
    {
      "cell_type": "code",
      "execution_count": 14,
      "metadata": {
        "id": "0uyh-xzULmon",
        "colab": {
          "base_uri": "https://localhost:8080/"
        },
        "outputId": "87950e55-6763-47e6-9dd1-d1106c1698a2"
      },
      "outputs": [
        {
          "output_type": "stream",
          "name": "stdout",
          "text": [
            "A\n",
            "A\n"
          ]
        }
      ],
      "source": [
        "print(x)\n",
        "print(y)"
      ]
    },
    {
      "cell_type": "markdown",
      "metadata": {
        "id": "n8-3TkHDLmon"
      },
      "source": [
        "> Use a dictionary instead."
      ]
    },
    {
      "cell_type": "code",
      "execution_count": 22,
      "metadata": {
        "id": "hnbhm2vMLmon",
        "colab": {
          "base_uri": "https://localhost:8080/"
        },
        "outputId": "013c85e4-ec28-4c34-979a-d3caf9c5593a"
      },
      "outputs": [
        {
          "output_type": "stream",
          "name": "stdout",
          "text": [
            "{'fruit1': 'apple', 'fruit2': 'banana', 'fruit3': 'chiku', 'fruit4': 'durian'}\n"
          ]
        }
      ],
      "source": [
        "store_dict = {\"fruit1\":\"apple\", \"fruit2\":\"banana\", \"fruit3\":\"chiku\", \"fruit4\":\"durian\"}\n",
        "print(store_dict)"
      ]
    },
    {
      "cell_type": "code",
      "execution_count": 23,
      "metadata": {
        "id": "m07s5ernLmon",
        "colab": {
          "base_uri": "https://localhost:8080/"
        },
        "outputId": "c00550ac-514e-4ac2-c60a-97fb24bb84c4"
      },
      "outputs": [
        {
          "output_type": "execute_result",
          "data": {
            "text/plain": [
              "dict"
            ]
          },
          "metadata": {},
          "execution_count": 23
        }
      ],
      "source": [
        "type(store_dict)"
      ]
    },
    {
      "cell_type": "code",
      "execution_count": 24,
      "metadata": {
        "id": "r21wGlJgLmon",
        "colab": {
          "base_uri": "https://localhost:8080/"
        },
        "outputId": "79e2b559-98e1-4fbe-a1fb-21ab90b547a8"
      },
      "outputs": [
        {
          "output_type": "execute_result",
          "data": {
            "text/plain": [
              "dict_keys(['fruit1', 'fruit2', 'fruit3', 'fruit4'])"
            ]
          },
          "metadata": {},
          "execution_count": 24
        }
      ],
      "source": [
        "store_dict.keys()"
      ]
    },
    {
      "cell_type": "code",
      "execution_count": 25,
      "metadata": {
        "id": "g4NbELd2Lmoo",
        "colab": {
          "base_uri": "https://localhost:8080/"
        },
        "outputId": "5534afee-2d9c-4968-d228-b0c717380615"
      },
      "outputs": [
        {
          "output_type": "execute_result",
          "data": {
            "text/plain": [
              "dict_values(['apple', 'banana', 'chiku', 'durian'])"
            ]
          },
          "metadata": {},
          "execution_count": 25
        }
      ],
      "source": [
        "store_dict.values()"
      ]
    },
    {
      "cell_type": "code",
      "execution_count": 26,
      "metadata": {
        "id": "hnT0DVv3Lmoo",
        "colab": {
          "base_uri": "https://localhost:8080/",
          "height": 35
        },
        "outputId": "29ab8a4d-323f-4d59-b15d-e251ba343353"
      },
      "outputs": [
        {
          "output_type": "execute_result",
          "data": {
            "text/plain": [
              "'banana'"
            ],
            "application/vnd.google.colaboratory.intrinsic+json": {
              "type": "string"
            }
          },
          "metadata": {},
          "execution_count": 26
        }
      ],
      "source": [
        "#print out banana\n",
        "store_dict['fruit2']"
      ]
    },
    {
      "cell_type": "markdown",
      "metadata": {
        "id": "d6A90BX5Lmoo"
      },
      "source": [
        "> Use a set instead."
      ]
    },
    {
      "cell_type": "code",
      "execution_count": 27,
      "metadata": {
        "id": "SGfjC636Lmoo",
        "colab": {
          "base_uri": "https://localhost:8080/"
        },
        "outputId": "04d1c9c0-188b-43ca-ac29-2f3d9b9f6536"
      },
      "outputs": [
        {
          "output_type": "stream",
          "name": "stdout",
          "text": [
            "{'chiku', 'banana', 'apple', 'durian'}\n"
          ]
        }
      ],
      "source": [
        "store_set = {\"apple\", \"banana\", \"chiku\", \"durian\"}\n",
        "print(store_set)"
      ]
    },
    {
      "cell_type": "code",
      "execution_count": 28,
      "metadata": {
        "id": "ix0qqLCJLmoo",
        "colab": {
          "base_uri": "https://localhost:8080/"
        },
        "outputId": "5dd708cd-c815-4597-a57a-37e6c1188455"
      },
      "outputs": [
        {
          "output_type": "execute_result",
          "data": {
            "text/plain": [
              "set"
            ]
          },
          "metadata": {},
          "execution_count": 28
        }
      ],
      "source": [
        "type(store_set)"
      ]
    },
    {
      "cell_type": "code",
      "execution_count": null,
      "metadata": {
        "id": "6A9Vq3jVLmoo"
      },
      "outputs": [],
      "source": []
    },
    {
      "cell_type": "markdown",
      "metadata": {
        "id": "647TGS8JLmoo"
      },
      "source": [
        "# !! Your Turn !!"
      ]
    },
    {
      "cell_type": "markdown",
      "metadata": {
        "id": "bbnG73MaLmop"
      },
      "source": [
        "## Replace the code marked as <..> COMPLETELY with your own.\n",
        "For example:\n",
        "length = <..> will be replaced by length = 10"
      ]
    },
    {
      "cell_type": "markdown",
      "metadata": {
        "id": "iNJstAAsLmop"
      },
      "source": [
        "# Question 1\n",
        "1) Store [2,4,6,8,10] into a variable data<br/>\n",
        "2) Print out the 1st element in this list."
      ]
    },
    {
      "cell_type": "code",
      "execution_count": 29,
      "metadata": {
        "id": "5p7eWiXELmop",
        "colab": {
          "base_uri": "https://localhost:8080/"
        },
        "outputId": "2e345521-cf8d-44ff-a6b7-34a86d7d4b6d"
      },
      "outputs": [
        {
          "output_type": "stream",
          "name": "stdout",
          "text": [
            "[2, 4, 6, 8, 10]\n"
          ]
        }
      ],
      "source": [
        "data = [2,4,6,8,10]\n",
        "print(data) #You should see the output 2"
      ]
    },
    {
      "cell_type": "markdown",
      "metadata": {
        "id": "msVHoP2ULmop"
      },
      "source": [
        "# Question 2"
      ]
    },
    {
      "cell_type": "markdown",
      "metadata": {
        "id": "A7paLhZcLmop"
      },
      "source": [
        "1) Store [1,3,5,7,9] into a variable data2<br/>\n",
        "2) Print out the 3rd element in this list."
      ]
    },
    {
      "cell_type": "code",
      "execution_count": 30,
      "metadata": {
        "id": "zIcYyoGULmoq",
        "colab": {
          "base_uri": "https://localhost:8080/"
        },
        "outputId": "b721462d-200b-4ef5-d7e2-3321cb0b25f4"
      },
      "outputs": [
        {
          "output_type": "stream",
          "name": "stdout",
          "text": [
            "[1, 3, 5, 7, 9]\n"
          ]
        }
      ],
      "source": [
        "data2 = [1,3,5,7,9]\n",
        "print(data2) #You should see the output 5"
      ]
    },
    {
      "cell_type": "markdown",
      "metadata": {
        "id": "VXVdDEQYLmoq"
      },
      "source": [
        "# Question 3\n",
        "1) Concatenate the two lists <b>data</b> and <b>data2</b> together into a variable, <b>data3</b>.<br/>\n",
        "2) Print them out.<br/>"
      ]
    },
    {
      "cell_type": "code",
      "execution_count": 31,
      "metadata": {
        "id": "VXRPDsMqLmoq",
        "colab": {
          "base_uri": "https://localhost:8080/"
        },
        "outputId": "4e9b5116-6da5-4b06-dafa-b2c446c5d2c5"
      },
      "outputs": [
        {
          "output_type": "stream",
          "name": "stdout",
          "text": [
            "[2, 4, 6, 8, 10, 1, 3, 5, 7, 9]\n"
          ]
        }
      ],
      "source": [
        "data3 = data + data2\n",
        "print(data3)"
      ]
    },
    {
      "cell_type": "markdown",
      "metadata": {
        "id": "C0-PJuIXLmoq"
      },
      "source": [
        "3) If they are not in the correct running sequence, sort them.<br/>\n",
        "4) Print it out"
      ]
    },
    {
      "cell_type": "code",
      "execution_count": 32,
      "metadata": {
        "id": "d56G7f4rLmoq",
        "colab": {
          "base_uri": "https://localhost:8080/"
        },
        "outputId": "4c16fb0f-246b-4a46-b2c4-21933cf73fd2"
      },
      "outputs": [
        {
          "output_type": "stream",
          "name": "stdout",
          "text": [
            "[1, 2, 3, 4, 5, 6, 7, 8, 9, 10]\n"
          ]
        }
      ],
      "source": [
        "data3.sort()\n",
        "print(data3)"
      ]
    },
    {
      "cell_type": "markdown",
      "metadata": {
        "id": "b8i3fbjtLmoq"
      },
      "source": [
        "# Question 4\n",
        "\n",
        "Let's try out mathematical operators on the lists and see if they work. <br/>\n",
        "1) Multiply the list, <b>data3</b>, by 2. What do you see?<br/>"
      ]
    },
    {
      "cell_type": "code",
      "execution_count": 33,
      "metadata": {
        "id": "K-t7jNCxLmor",
        "colab": {
          "base_uri": "https://localhost:8080/"
        },
        "outputId": "bdda22b2-288c-425e-acec-63f9992f0a1e"
      },
      "outputs": [
        {
          "output_type": "stream",
          "name": "stdout",
          "text": [
            "[1, 2, 3, 4, 5, 6, 7, 8, 9, 10, 1, 2, 3, 4, 5, 6, 7, 8, 9, 10]\n"
          ]
        }
      ],
      "source": [
        "print(data3 * 2)"
      ]
    },
    {
      "cell_type": "markdown",
      "metadata": {
        "id": "HOB8ijW2Lmor"
      },
      "source": [
        "<i>Tips: Try out the other mathematical operators in the boxes below. Some may not work and may produce errors</i> "
      ]
    },
    {
      "cell_type": "code",
      "execution_count": 34,
      "metadata": {
        "id": "spd-gqIGLmor",
        "colab": {
          "base_uri": "https://localhost:8080/"
        },
        "outputId": "41388028-cc7f-48c6-a26d-843e9fd54dba"
      },
      "outputs": [
        {
          "output_type": "stream",
          "name": "stdout",
          "text": [
            "[1, 2, 3, 4, 5, 6, 7, 8, 9, 10, 1, 2, 3, 4, 5, 6, 7, 8, 9, 10]\n"
          ]
        }
      ],
      "source": [
        "#use +\n",
        "print(data3 + data3)"
      ]
    },
    {
      "cell_type": "code",
      "execution_count": 35,
      "metadata": {
        "id": "cdU0afLgLmos",
        "colab": {
          "base_uri": "https://localhost:8080/",
          "height": 187
        },
        "outputId": "a3e50afe-726b-434f-b4d1-1ca9074480a1"
      },
      "outputs": [
        {
          "output_type": "error",
          "ename": "TypeError",
          "evalue": "ignored",
          "traceback": [
            "\u001b[0;31m---------------------------------------------------------------------------\u001b[0m",
            "\u001b[0;31mTypeError\u001b[0m                                 Traceback (most recent call last)",
            "\u001b[0;32m<ipython-input-35-11ca84a5dfe1>\u001b[0m in \u001b[0;36m<cell line: 2>\u001b[0;34m()\u001b[0m\n\u001b[1;32m      1\u001b[0m \u001b[0;31m#use -\u001b[0m\u001b[0;34m\u001b[0m\u001b[0;34m\u001b[0m\u001b[0m\n\u001b[0;32m----> 2\u001b[0;31m \u001b[0mprint\u001b[0m\u001b[0;34m(\u001b[0m\u001b[0mdata3\u001b[0m \u001b[0;34m-\u001b[0m \u001b[0mdata3\u001b[0m\u001b[0;34m)\u001b[0m\u001b[0;34m\u001b[0m\u001b[0;34m\u001b[0m\u001b[0m\n\u001b[0m",
            "\u001b[0;31mTypeError\u001b[0m: unsupported operand type(s) for -: 'list' and 'list'"
          ]
        }
      ],
      "source": [
        "#use -\n",
        "print(data3 - data3)"
      ]
    },
    {
      "cell_type": "code",
      "execution_count": 36,
      "metadata": {
        "id": "yaOknaacLmos",
        "colab": {
          "base_uri": "https://localhost:8080/",
          "height": 187
        },
        "outputId": "603c222f-70f9-4be4-850e-a44ada5aadc4"
      },
      "outputs": [
        {
          "output_type": "error",
          "ename": "TypeError",
          "evalue": "ignored",
          "traceback": [
            "\u001b[0;31m---------------------------------------------------------------------------\u001b[0m",
            "\u001b[0;31mTypeError\u001b[0m                                 Traceback (most recent call last)",
            "\u001b[0;32m<ipython-input-36-509668fedd4f>\u001b[0m in \u001b[0;36m<cell line: 2>\u001b[0;34m()\u001b[0m\n\u001b[1;32m      1\u001b[0m \u001b[0;31m#use /\u001b[0m\u001b[0;34m\u001b[0m\u001b[0;34m\u001b[0m\u001b[0m\n\u001b[0;32m----> 2\u001b[0;31m \u001b[0mprint\u001b[0m\u001b[0;34m(\u001b[0m\u001b[0mdata3\u001b[0m \u001b[0;34m/\u001b[0m \u001b[0mdata3\u001b[0m\u001b[0;34m)\u001b[0m\u001b[0;34m\u001b[0m\u001b[0;34m\u001b[0m\u001b[0m\n\u001b[0m",
            "\u001b[0;31mTypeError\u001b[0m: unsupported operand type(s) for /: 'list' and 'list'"
          ]
        }
      ],
      "source": [
        "#use /\n",
        "print(data3 / data3)"
      ]
    },
    {
      "cell_type": "markdown",
      "metadata": {
        "id": "0L5PGGRaLmos"
      },
      "source": [
        "<i>This shows that you cannot apply mathematical operators to a list the way you would to numeric data types.</i> "
      ]
    },
    {
      "cell_type": "markdown",
      "metadata": {
        "id": "XX1zQ4NrLmos"
      },
      "source": [
        "# Question 5\n",
        "1) Create a variable, <b>storage</b>, that stores the following:<br/><br/>\n",
        "table<br/>\n",
        "chair<br/>\n",
        "fridge<br/>\n",
        "washing machine<br/><br/>\n",
        "2) print out the variable storage and verify the contents.\n",
        "Hint: You should see ['table', 'chair', 'fridge', 'washing machine']"
      ]
    },
    {
      "cell_type": "code",
      "execution_count": 38,
      "metadata": {
        "id": "7Bxnk-zeLmos",
        "colab": {
          "base_uri": "https://localhost:8080/"
        },
        "outputId": "63ff4887-4680-47de-f038-7074c2eb6335"
      },
      "outputs": [
        {
          "output_type": "stream",
          "name": "stdout",
          "text": [
            "['table', 'chair', 'fridge', 'washing machine']\n"
          ]
        }
      ],
      "source": [
        "storage = ['table','chair','fridge','washing machine']\n",
        "print(storage)"
      ]
    },
    {
      "cell_type": "markdown",
      "metadata": {
        "id": "fMbUmAZoLmos"
      },
      "source": [
        "# Question 6\n",
        "1) You can add \"aircon\" into storage by doing <b>storage.append(\"aircon\")</b>.<br/>\n",
        "2) Do that, and print out the new storage variable to verify that \"aircon\" has been added.<br/>\n",
        "Hint: You should see ['table', 'chair', 'fridge', 'washing machine', 'aircon']"
      ]
    },
    {
      "cell_type": "code",
      "execution_count": 39,
      "metadata": {
        "id": "lnA9yEhmLmos",
        "colab": {
          "base_uri": "https://localhost:8080/"
        },
        "outputId": "01b5c168-4cbd-4e5f-f56e-515de872c4d5"
      },
      "outputs": [
        {
          "output_type": "stream",
          "name": "stdout",
          "text": [
            "['table', 'chair', 'fridge', 'washing machine', 'aircon']\n"
          ]
        }
      ],
      "source": [
        "storage = ['table','chair','fridge','washing machine']\n",
        "storage.append('aircon')\n",
        "print(storage)"
      ]
    },
    {
      "cell_type": "markdown",
      "metadata": {
        "id": "6dZThfKULmos"
      },
      "source": [
        "# Question 7\n",
        "1) You can remove \"chair\" from storage by doing <b>storage.remove(\"chair\")</b>.<br/>\n",
        "2) Do that, and print out the new storage variable to verify that \"chair\" has been removed.<br/>\n",
        "Hint: You should see ['table', 'fridge', 'washing machine', 'aircon']"
      ]
    },
    {
      "cell_type": "code",
      "execution_count": 40,
      "metadata": {
        "id": "3DqowC_uLmos",
        "colab": {
          "base_uri": "https://localhost:8080/"
        },
        "outputId": "801f3f26-8f2f-4cb2-f802-c47e85e5244d"
      },
      "outputs": [
        {
          "output_type": "stream",
          "name": "stdout",
          "text": [
            "['table', 'fridge', 'washing machine', 'aircon']\n"
          ]
        }
      ],
      "source": [
        "storage.remove('chair')\n",
        "print(storage)"
      ]
    },
    {
      "cell_type": "markdown",
      "metadata": {
        "id": "JeXGlL2mLmos"
      },
      "source": [
        "# Question 8\n",
        "1) <b>|value| in storage</b> allows you to check whether an item is inside the list.<br/>\n",
        "2) For example, <b>\"table\" in storage</b> will return true.<br/>\n",
        "3) Write the code to check if the item \"fridge\" is inside storage.<br/>"
      ]
    },
    {
      "cell_type": "code",
      "execution_count": 41,
      "metadata": {
        "id": "8CCP_71hLmos",
        "colab": {
          "base_uri": "https://localhost:8080/"
        },
        "outputId": "aeb38556-2bd4-4c03-f669-5f7d396e9818"
      },
      "outputs": [
        {
          "output_type": "stream",
          "name": "stdout",
          "text": [
            "True\n"
          ]
        }
      ],
      "source": [
        "storage = ['table','chair','fridge','washing machine']\n",
        "print('table' in storage)"
      ]
    },
    {
      "cell_type": "markdown",
      "metadata": {
        "id": "Z_lmdCWNLmot"
      },
      "source": [
        "# Question 9\n",
        "1) Create a dictionary, <b>postal_to_town</b> that stores the following key-value pairs.<br/>\n",
        "760702 --> Yishun\n",
        "530406 --> Hougang\n",
        "600212 --> Jurong East"
      ]
    },
    {
      "cell_type": "code",
      "execution_count": 43,
      "metadata": {
        "id": "MBM2jazxLmot"
      },
      "outputs": [],
      "source": [
        "postal_to_town = {\n",
        "    '760702': 'Yishun',\n",
        "    '530406': 'Hougang',\n",
        "    '600212': 'Jurong East'\n",
        "}"
      ]
    },
    {
      "cell_type": "markdown",
      "metadata": {
        "id": "m_T7GJ57Lmot"
      },
      "source": [
        "2) Print out the town by referencing postal '760702'<br/>\n",
        "You should see Yishun"
      ]
    },
    {
      "cell_type": "code",
      "execution_count": 44,
      "metadata": {
        "id": "5BlH_0RTLmot",
        "colab": {
          "base_uri": "https://localhost:8080/",
          "height": 35
        },
        "outputId": "3c8d6bc4-8930-4dea-ea44-d930297b2be6"
      },
      "outputs": [
        {
          "output_type": "execute_result",
          "data": {
            "text/plain": [
              "'Yishun'"
            ],
            "application/vnd.google.colaboratory.intrinsic+json": {
              "type": "string"
            }
          },
          "metadata": {},
          "execution_count": 44
        }
      ],
      "source": [
        "postal_to_town['760702']"
      ]
    },
    {
      "cell_type": "markdown",
      "metadata": {
        "id": "QicCs8KTLmot"
      },
      "source": [
        "3) Print out the town by referencing postal '530406'<br/>\n",
        "You should see Hougang"
      ]
    },
    {
      "cell_type": "code",
      "execution_count": 45,
      "metadata": {
        "id": "ePVCU67DLmou",
        "colab": {
          "base_uri": "https://localhost:8080/",
          "height": 35
        },
        "outputId": "a6ea863a-20aa-48cf-fb02-165157d68794"
      },
      "outputs": [
        {
          "output_type": "execute_result",
          "data": {
            "text/plain": [
              "'Hougang'"
            ],
            "application/vnd.google.colaboratory.intrinsic+json": {
              "type": "string"
            }
          },
          "metadata": {},
          "execution_count": 45
        }
      ],
      "source": [
        "postal_to_town['530406']"
      ]
    },
    {
      "cell_type": "markdown",
      "metadata": {
        "id": "pKjZFpd7Lmou"
      },
      "source": [
        "4) Print out the town by referencing postal '600212'<br/>\n",
        "You should see Jurong East"
      ]
    },
    {
      "cell_type": "code",
      "execution_count": 46,
      "metadata": {
        "id": "NWjfioRQLmou",
        "colab": {
          "base_uri": "https://localhost:8080/",
          "height": 35
        },
        "outputId": "843de5c4-ae9e-4732-9804-350e990b1033"
      },
      "outputs": [
        {
          "output_type": "execute_result",
          "data": {
            "text/plain": [
              "'Jurong East'"
            ],
            "application/vnd.google.colaboratory.intrinsic+json": {
              "type": "string"
            }
          },
          "metadata": {},
          "execution_count": 46
        }
      ],
      "source": [
        "postal_to_town['600212']"
      ]
    },
    {
      "cell_type": "markdown",
      "metadata": {
        "id": "tU1dW2SVLmou"
      },
      "source": [
        "4) Print out the town by referencing postal '138577'<br/>\n",
        "What do you see?"
      ]
    },
    {
      "cell_type": "code",
      "execution_count": 47,
      "metadata": {
        "id": "w98HcafVLmou",
        "colab": {
          "base_uri": "https://localhost:8080/",
          "height": 169
        },
        "outputId": "8620818a-e532-4f54-f7b5-a59ca5a7b205"
      },
      "outputs": [
        {
          "output_type": "error",
          "ename": "KeyError",
          "evalue": "ignored",
          "traceback": [
            "\u001b[0;31m---------------------------------------------------------------------------\u001b[0m",
            "\u001b[0;31mKeyError\u001b[0m                                  Traceback (most recent call last)",
            "\u001b[0;32m<ipython-input-47-3b053524599b>\u001b[0m in \u001b[0;36m<cell line: 1>\u001b[0;34m()\u001b[0m\n\u001b[0;32m----> 1\u001b[0;31m \u001b[0mpostal_to_town\u001b[0m\u001b[0;34m[\u001b[0m\u001b[0;34m'138577'\u001b[0m\u001b[0;34m]\u001b[0m\u001b[0;34m\u001b[0m\u001b[0;34m\u001b[0m\u001b[0m\n\u001b[0m",
            "\u001b[0;31mKeyError\u001b[0m: '138577'"
          ]
        }
      ],
      "source": [
        "postal_to_town['138577']"
      ]
    },
    {
      "cell_type": "markdown",
      "metadata": {
        "id": "dhJeBRAOLmov"
      },
      "source": [
        "# Question 10*"
      ]
    },
    {
      "cell_type": "markdown",
      "metadata": {
        "id": "Qbau_oW1Lmov"
      },
      "source": [
        "1) Decide on a data type to use for the following use case: <br/>\n",
        "- I want to read in values and store them as I read them in sequentially.<br/>\n",
        "- Order matters.<br/>\n",
        "- Repeated values are ok.<br/>\n",
        "- I want to be able to remove some of the items too.<br/>\n",
        "\n",
        "2) When you have decided, create such a variable called <b>zoo2</b> and store the following values into it:<br/>\n",
        "- lion<br/>\n",
        "- tiger<br/>\n",
        "- giraffe<br/>\n",
        "- hippo<br/>\n",
        "- monkey<br/>"
      ]
    },
    {
      "cell_type": "code",
      "execution_count": 48,
      "metadata": {
        "id": "5nwNqmqSLmov"
      },
      "outputs": [],
      "source": [
        "zoo2 = ['lion', 'tiger', 'giraffe', 'hippo', 'monkey']"
      ]
    },
    {
      "cell_type": "markdown",
      "metadata": {
        "id": "euUDXsoULmov"
      },
      "source": [
        "3) Write code into the cell below such that you will prompt the user to tell you an animal, then store it into the existing data in the variable <b>zoo2</b>.<br/>\n",
        "4) Then, run the cell below 3 times, and input the following values:<br/>\n",
        "- bird<br/>\n",
        "- panda<br/>\n",
        "- monkey<br/>"
      ]
    },
    {
      "cell_type": "code",
      "execution_count": 52,
      "metadata": {
        "id": "7ORTUchNLmov",
        "colab": {
          "base_uri": "https://localhost:8080/"
        },
        "outputId": "712176e8-e16f-4089-8ff5-bc00f45ccbab"
      },
      "outputs": [
        {
          "output_type": "stream",
          "name": "stdout",
          "text": [
            "Tell me an animalmonkey\n",
            "['lion', 'tiger', 'giraffe', 'hippo', 'monkey', 'bird', 'panda', 'monkey']\n"
          ]
        }
      ],
      "source": [
        "add_animal = input('Tell me an animal to add ')\n",
        "zoo2.append(add_animal)"
      ]
    },
    {
      "cell_type": "markdown",
      "metadata": {
        "id": "1INRF5zvLmov"
      },
      "source": [
        "5) Print out the variable <b>zoo2</b>. It should contain the following in order:<br/>\n",
        "- lion<br/>\n",
        "- tiger<br>\n",
        "- giraffe<br>\n",
        "- hippo<br>\n",
        "- monkey<br>\n",
        "- bird<br>\n",
        "- panda<br>\n",
        "- monkey<br>"
      ]
    },
    {
      "cell_type": "code",
      "execution_count": 53,
      "metadata": {
        "id": "iHQOGJDcLmov",
        "colab": {
          "base_uri": "https://localhost:8080/"
        },
        "outputId": "3301262d-e2f8-4a7f-f4b2-1588b44ac1dc"
      },
      "outputs": [
        {
          "output_type": "stream",
          "name": "stdout",
          "text": [
            "['lion', 'tiger', 'giraffe', 'hippo', 'monkey', 'bird', 'panda', 'monkey']\n"
          ]
        }
      ],
      "source": [
        "print(zoo2)"
      ]
    },
    {
      "cell_type": "markdown",
      "metadata": {
        "id": "UeVVS4qnLmow"
      },
      "source": [
        "6) Write code into the cell below such that you will prompt the user to tell you an animal, then remove it from the existing data in the variable <b>zoo2</b>.<br/>\n",
        "7) Then, run the cell below 3 times, and input the following values:<br/>\n",
        "- tiger<br/>\n",
        "- monkey<br/>\n",
        "- giraffe<br/>"
      ]
    },
    {
      "cell_type": "code",
      "execution_count": 58,
      "metadata": {
        "id": "MvgIxVxhLmow",
        "colab": {
          "base_uri": "https://localhost:8080/"
        },
        "outputId": "fd226762-ab8a-4621-e5b7-7d19590bbe17"
      },
      "outputs": [
        {
          "name": "stdout",
          "output_type": "stream",
          "text": [
            "Tell me an animal to remove giraffe\n"
          ]
        }
      ],
      "source": [
        "rm_animal = input('Tell me an animal to remove ')\n",
        "zoo2.remove(rm_animal)"
      ]
    },
    {
      "cell_type": "markdown",
      "metadata": {
        "id": "fyg8PGmqLmow"
      },
      "source": [
        "8) Print out the variable <b>zoo2</b>. It should contain the following in order:<br/>\n",
        "- lion<br/>\n",
        "- hippo<br>\n",
        "- bird<br>\n",
        "- panda<br>\n",
        "- monkey<br>"
      ]
    },
    {
      "cell_type": "code",
      "execution_count": 59,
      "metadata": {
        "id": "WvyIHbj9Lmow",
        "colab": {
          "base_uri": "https://localhost:8080/"
        },
        "outputId": "c6fdfd0f-59d6-42fb-e159-3b87808ba43b"
      },
      "outputs": [
        {
          "output_type": "stream",
          "name": "stdout",
          "text": [
            "['lion', 'hippo', 'bird', 'panda', 'monkey']\n"
          ]
        }
      ],
      "source": [
        "print(zoo2)"
      ]
    },
    {
      "cell_type": "markdown",
      "metadata": {
        "id": "y7nOsKvsLmow"
      },
      "source": [
        "# Question 11 *"
      ]
    },
    {
      "cell_type": "markdown",
      "metadata": {
        "id": "XonWEu4BLmow"
      },
      "source": [
        "1) Decide on a data type to use for the following use case: <br/>\n",
        "- I want to read in a pair of key and values and store them.<br/>\n",
        "- Order does not matter.<br/>\n",
        "- Repeated values are ok.<br/>\n",
        "- I want to be able to change some of the values for the keys too.<br/>\n",
        "\n",
        "2) When you have decided, create such a variable called <b>zoo3</b> and store the following key - values into it:<br/>\n",
        "- lion - c<br/>\n",
        "- tiger - h<br/>\n",
        "- giraffe - h<br/>\n",
        "- hippo - h<br/>\n",
        "- monkey - o<br/><br/>\n",
        "<i>Note: key is lion, value is c</i>"
      ]
    },
    {
      "cell_type": "code",
      "execution_count": 60,
      "metadata": {
        "id": "iBVOOO6ILmow"
      },
      "outputs": [],
      "source": [
        "zoo3 = {\n",
        "    'lion':'c',\n",
        "    'tiger':'h',\n",
        "    'giraffe':'h',\n",
        "    'hippo':'h',\n",
        "    'monkey':'o'\n",
        "}"
      ]
    },
    {
      "cell_type": "markdown",
      "metadata": {
        "id": "hhExmji2Lmow"
      },
      "source": [
        "3) Write code into the cell below such that you will prompt the user to tell you an animal.<br/>\n",
        "4) Then, run the cell below 1 time, and input the following values:<br/>\n",
        "- bird<br/>"
      ]
    },
    {
      "cell_type": "code",
      "execution_count": 62,
      "metadata": {
        "id": "H38vcv1gLmow",
        "colab": {
          "base_uri": "https://localhost:8080/"
        },
        "outputId": "5b42d594-634b-4b25-86ce-6c9494b9fa87"
      },
      "outputs": [
        {
          "name": "stdout",
          "output_type": "stream",
          "text": [
            "Tell me an animal bird\n"
          ]
        }
      ],
      "source": [
        "animal = input('Tell me an animal ')"
      ]
    },
    {
      "cell_type": "markdown",
      "metadata": {
        "id": "Rt8izejsLmow"
      },
      "source": [
        "5) Write code into the cell below such that you will prompt the user to tell you whether the animal is a carnivore, herbivore or omnivore.<br/>\n",
        "The user simply keys in c, h or o.<br/>\n",
        "6) Then, run the cell below 1 time, and input the following values:<br/>\n",
        "- o<br/>"
      ]
    },
    {
      "cell_type": "code",
      "execution_count": 63,
      "metadata": {
        "id": "VPP5TJ70Lmox",
        "colab": {
          "base_uri": "https://localhost:8080/"
        },
        "outputId": "1165d500-2786-42f4-93c6-b273c28d9c20"
      },
      "outputs": [
        {
          "name": "stdout",
          "output_type": "stream",
          "text": [
            "Tell me whether the animal is a carnivore \"c\", herbivore \"h\" or omnivore \"o\".o\n"
          ]
        }
      ],
      "source": [
        "diet = input('Tell me whether the animal is a carnivore \"c\", herbivore \"h\" or omnivore \"o\".')"
      ]
    },
    {
      "cell_type": "markdown",
      "metadata": {
        "id": "4qE87KzeLmox"
      },
      "source": [
        "7) Add the new animal and its dietary preference into <b>zoo3</b>.<br/>\n",
        "Print out <b>zoo3</b>."
      ]
    },
    {
      "cell_type": "code",
      "execution_count": 64,
      "metadata": {
        "id": "WdfaHiccLmox",
        "colab": {
          "base_uri": "https://localhost:8080/"
        },
        "outputId": "81a1dcf9-fa7c-4903-b1d5-88c55173d85a"
      },
      "outputs": [
        {
          "output_type": "stream",
          "name": "stdout",
          "text": [
            "{'lion': 'c', 'tiger': 'h', 'giraffe': 'h', 'hippo': 'h', 'monkey': 'o', 'bird': 'o'}\n"
          ]
        }
      ],
      "source": [
        "zoo3[animal] = diet\n",
        "print(zoo3)"
      ]
    },
    {
      "cell_type": "markdown",
      "metadata": {
        "id": "BdyeTlwZLmox"
      },
      "source": [
        "8) You realised you made a mistake with the dietary preference for the tiger earlier on. Write the code to change it from an 'h' to a 'c'.<br/>\n",
        "Print out <b>zoo3</b>."
      ]
    },
    {
      "cell_type": "code",
      "execution_count": 65,
      "metadata": {
        "id": "Zhek8BOrLmox"
      },
      "outputs": [],
      "source": [
        "zoo3[animal] = 'c'"
      ]
    },
    {
      "cell_type": "code",
      "source": [
        "print(zoo3)"
      ],
      "metadata": {
        "colab": {
          "base_uri": "https://localhost:8080/"
        },
        "id": "cnhgDeBFh9p7",
        "outputId": "8fc39fd5-d061-4e3b-f542-e6a469196c83"
      },
      "execution_count": 66,
      "outputs": [
        {
          "output_type": "stream",
          "name": "stdout",
          "text": [
            "{'lion': 'c', 'tiger': 'h', 'giraffe': 'h', 'hippo': 'h', 'monkey': 'o', 'bird': 'c'}\n"
          ]
        }
      ]
    }
  ],
  "metadata": {
    "kernelspec": {
      "display_name": "Python 3 (ipykernel)",
      "language": "python",
      "name": "python3"
    },
    "language_info": {
      "codemirror_mode": {
        "name": "ipython",
        "version": 3
      },
      "file_extension": ".py",
      "mimetype": "text/x-python",
      "name": "python",
      "nbconvert_exporter": "python",
      "pygments_lexer": "ipython3",
      "version": "3.9.7"
    },
    "colab": {
      "provenance": [],
      "include_colab_link": true
    }
  },
  "nbformat": 4,
  "nbformat_minor": 0
}