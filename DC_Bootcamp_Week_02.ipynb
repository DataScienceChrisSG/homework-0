{
  "cells": [
    {
      "cell_type": "markdown",
      "metadata": {
        "id": "view-in-github",
        "colab_type": "text"
      },
      "source": [
        "<a href=\"https://colab.research.google.com/github/DataScienceChrisSG/homework-0/blob/main/DC_Bootcamp_Week_02.ipynb\" target=\"_parent\"><img src=\"https://colab.research.google.com/assets/colab-badge.svg\" alt=\"Open In Colab\"/></a>"
      ]
    },
    {
      "cell_type": "markdown",
      "metadata": {
        "id": "jgv5GEdfwQnU"
      },
      "source": [
        "# if-else, for, while"
      ]
    },
    {
      "cell_type": "markdown",
      "metadata": {
        "id": "WBMdhY0PwQnW"
      },
      "source": [
        "## Run The Following Code\n",
        "Hit SHIFT + ENTER when your cusor is inside the cell of code.<br/>"
      ]
    },
    {
      "cell_type": "markdown",
      "metadata": {
        "id": "J9W2CjJ_wQnW"
      },
      "source": [
        "> The if else construct enables you to selectively run parts of your code. Which part of the code runs depends on whether the code segment after if equates to True, or False."
      ]
    },
    {
      "cell_type": "code",
      "execution_count": null,
      "metadata": {
        "id": "YaMQoFUcwQnW",
        "outputId": "fa4c4de0-74c8-4b7d-9a3c-d938f41f99ee"
      },
      "outputs": [
        {
          "name": "stdout",
          "output_type": "stream",
          "text": [
            "This is the code segment for True\n",
            "True! Hooray!\n"
          ]
        }
      ],
      "source": [
        "if True:\n",
        "    print(\"This is the code segment for True\")\n",
        "    print(\"True! Hooray!\")\n",
        "else:\n",
        "    print(\"This is the code segment for False\")\n",
        "    print(\"False! Boo!\")"
      ]
    },
    {
      "cell_type": "code",
      "execution_count": null,
      "metadata": {
        "id": "7VtIUEqywQnY",
        "outputId": "9eb8f335-39c3-4a88-e40a-0e8943da0cb4"
      },
      "outputs": [
        {
          "name": "stdout",
          "output_type": "stream",
          "text": [
            "This is the code segment for False\n",
            "False! Boo!\n"
          ]
        }
      ],
      "source": [
        "if False:\n",
        "    print(\"This is the code segment for True\")\n",
        "    print(\"True! Hooray!\")\n",
        "else:\n",
        "    print(\"This is the code segment for False\")\n",
        "    print(\"False! Boo!\")"
      ]
    },
    {
      "cell_type": "markdown",
      "metadata": {
        "id": "xrPeRRYJwQnY"
      },
      "source": [
        "> You can use a variable to enable which parts of the code runs."
      ]
    },
    {
      "cell_type": "code",
      "execution_count": null,
      "metadata": {
        "id": "5zoBkhrnwQnY",
        "outputId": "3e3ddcee-95eb-434b-8718-1572c62c0aec"
      },
      "outputs": [
        {
          "name": "stdout",
          "output_type": "stream",
          "text": [
            "This is the code segment for True\n",
            "True! Hooray!\n"
          ]
        }
      ],
      "source": [
        "true_or_false = True\n",
        "\n",
        "if true_or_false:\n",
        "    print(\"This is the code segment for True\")\n",
        "    print(\"True! Hooray!\")\n",
        "else:\n",
        "    print(\"This is the code segment for False\")\n",
        "    print(\"False! Boo!\")"
      ]
    },
    {
      "cell_type": "code",
      "execution_count": null,
      "metadata": {
        "id": "NYrMJnCPwQnZ",
        "outputId": "117ac3f8-d611-4e8f-edbe-e19bd44374fb"
      },
      "outputs": [
        {
          "name": "stdout",
          "output_type": "stream",
          "text": [
            "This is the code segment for False\n",
            "False! Boo!\n"
          ]
        }
      ],
      "source": [
        "true_or_false = False\n",
        "\n",
        "if true_or_false:\n",
        "    print(\"This is the code segment for True\")\n",
        "    print(\"True! Hooray!\")\n",
        "else:\n",
        "    print(\"This is the code segment for False\")\n",
        "    print(\"False! Boo!\")"
      ]
    },
    {
      "cell_type": "markdown",
      "metadata": {
        "id": "S-VdgSZJwQnZ"
      },
      "source": [
        "> You can use conditionals together with the variable to make it more interesting and useful."
      ]
    },
    {
      "cell_type": "code",
      "execution_count": null,
      "metadata": {
        "id": "pYBWWJqQwQnZ",
        "outputId": "61a091aa-3b0a-46ac-8308-ee00625fc2d5"
      },
      "outputs": [
        {
          "name": "stdout",
          "output_type": "stream",
          "text": [
            "The secret number is greater than 5!\n"
          ]
        }
      ],
      "source": [
        "secret_number = 10\n",
        "\n",
        "if secret_number > 5:\n",
        "    print(\"The secret number is greater than 5!\")\n",
        "else:\n",
        "    print(\"The secret number is not greater than 5.\")"
      ]
    },
    {
      "cell_type": "code",
      "execution_count": null,
      "metadata": {
        "id": "7ymdWrRAwQnZ",
        "outputId": "2491ad33-59ad-40c4-e19b-f4cebace8941"
      },
      "outputs": [
        {
          "name": "stdout",
          "output_type": "stream",
          "text": [
            "The secret number is not greater than 5.\n"
          ]
        }
      ],
      "source": [
        "secret_number = 3\n",
        "\n",
        "if secret_number > 5:\n",
        "    print(\"The secret number is greater than 5!\")\n",
        "else:\n",
        "    print(\"The secret number is not greater than 5.\")"
      ]
    },
    {
      "cell_type": "code",
      "execution_count": null,
      "metadata": {
        "id": "obJ63-iGwQnb",
        "outputId": "f5a07529-18ba-40a9-9fa2-10798ea46627"
      },
      "outputs": [
        {
          "name": "stdout",
          "output_type": "stream",
          "text": [
            "The secret number is between 5 and 10!\n"
          ]
        }
      ],
      "source": [
        "secret_number = 8\n",
        "\n",
        "if secret_number > 5 and secret_number < 10:\n",
        "    print(\"The secret number is between 5 and 10!\")\n",
        "else:\n",
        "    print(\"The secret number is not between 5 and 10\")"
      ]
    },
    {
      "cell_type": "markdown",
      "metadata": {
        "id": "eLUxMVHSwQnb"
      },
      "source": [
        "> Truth Table"
      ]
    },
    {
      "cell_type": "code",
      "execution_count": null,
      "metadata": {
        "id": "BR8vU03hwQnc",
        "outputId": "b2e14bb0-c8e4-4b50-ffb9-4c898f0c6719"
      },
      "outputs": [
        {
          "data": {
            "text/plain": [
              "True"
            ]
          },
          "execution_count": 66,
          "metadata": {},
          "output_type": "execute_result"
        }
      ],
      "source": [
        "True and True"
      ]
    },
    {
      "cell_type": "code",
      "execution_count": null,
      "metadata": {
        "id": "6AA9Hy3swQnc",
        "outputId": "ced74df9-91a0-434a-80cb-86370f8b361d"
      },
      "outputs": [
        {
          "data": {
            "text/plain": [
              "False"
            ]
          },
          "execution_count": 67,
          "metadata": {},
          "output_type": "execute_result"
        }
      ],
      "source": [
        "True and False"
      ]
    },
    {
      "cell_type": "code",
      "execution_count": null,
      "metadata": {
        "id": "URBH01W4wQnc",
        "outputId": "bcafb80f-48a0-4bc6-80e9-71d57502012e"
      },
      "outputs": [
        {
          "data": {
            "text/plain": [
              "False"
            ]
          },
          "execution_count": 68,
          "metadata": {},
          "output_type": "execute_result"
        }
      ],
      "source": [
        "False and True"
      ]
    },
    {
      "cell_type": "code",
      "execution_count": null,
      "metadata": {
        "id": "9clKSUjOwQnc",
        "outputId": "21fa2357-99c6-422c-a806-fbd05eb38b53"
      },
      "outputs": [
        {
          "data": {
            "text/plain": [
              "False"
            ]
          },
          "execution_count": 69,
          "metadata": {},
          "output_type": "execute_result"
        }
      ],
      "source": [
        "False and False"
      ]
    },
    {
      "cell_type": "markdown",
      "metadata": {
        "id": "tURXAmv4wQnc"
      },
      "source": [
        ">Do the same using \"or\""
      ]
    },
    {
      "cell_type": "code",
      "execution_count": null,
      "metadata": {
        "id": "PUTTwLBDwQnc",
        "outputId": "5f519359-ecaa-47a8-cb1a-22b0dd699467"
      },
      "outputs": [
        {
          "data": {
            "text/plain": [
              "True"
            ]
          },
          "execution_count": 70,
          "metadata": {},
          "output_type": "execute_result"
        }
      ],
      "source": [
        "True or True"
      ]
    },
    {
      "cell_type": "code",
      "execution_count": null,
      "metadata": {
        "id": "rblzeZk1wQnc",
        "outputId": "69312005-842b-447b-bc05-262184a52d0c"
      },
      "outputs": [
        {
          "data": {
            "text/plain": [
              "True"
            ]
          },
          "execution_count": 71,
          "metadata": {},
          "output_type": "execute_result"
        }
      ],
      "source": [
        "True or False"
      ]
    },
    {
      "cell_type": "code",
      "execution_count": null,
      "metadata": {
        "id": "8I_Ns2nawQnc",
        "outputId": "65755d60-3e49-4756-b238-c34b6eb9443d"
      },
      "outputs": [
        {
          "data": {
            "text/plain": [
              "True"
            ]
          },
          "execution_count": 72,
          "metadata": {},
          "output_type": "execute_result"
        }
      ],
      "source": [
        "False or True"
      ]
    },
    {
      "cell_type": "code",
      "execution_count": null,
      "metadata": {
        "id": "SnGcUhTewQnd",
        "outputId": "48522f10-1c05-41e9-961d-1d598604ec14"
      },
      "outputs": [
        {
          "data": {
            "text/plain": [
              "False"
            ]
          },
          "execution_count": 73,
          "metadata": {},
          "output_type": "execute_result"
        }
      ],
      "source": [
        "False or False"
      ]
    },
    {
      "cell_type": "markdown",
      "metadata": {
        "id": "BCWpZS-OwQnd"
      },
      "source": [
        "> combining Booleans for complex if-else<br/>\n",
        "There are 2 classes of students, A and B. There are 10 students in each class. <br/>\n",
        "Only students from Class A, index number 1 to 5 take the exam on 10 Jun. <br/>\n",
        "The rest takes it on 11 Jun."
      ]
    },
    {
      "cell_type": "code",
      "execution_count": null,
      "metadata": {
        "id": "MiMWHohxwQnd",
        "outputId": "c304d0e5-95dc-4c30-dd1e-5ab317fe26f6"
      },
      "outputs": [
        {
          "name": "stdout",
          "output_type": "stream",
          "text": [
            "What is your class? A or B: A\n",
            "What is your index number? 1 - 10: 1\n",
            "Your exam is on the 10 Jun.\n"
          ]
        }
      ],
      "source": [
        "myclass = input(\"What is your class? A or B: \")\n",
        "myindex = input(\"What is your index number? 1 - 10: \")\n",
        "myindex = int(myindex)\n",
        "\n",
        "if myclass == 'A' and myindex <= 5:\n",
        "    print(\"Your exam is on the 10 Jun.\")\n",
        "else:\n",
        "    print(\"Your exam is on the 11 Jun.\")"
      ]
    },
    {
      "cell_type": "markdown",
      "metadata": {
        "id": "E0ClZ2kVwQnd"
      },
      "source": [
        "> Now we make the logic a bit more complex.<br/>\n",
        "There are 2 classes of students, A and B. There are 10 students in each class. <br/>\n",
        "Students from Class A, index number 1 to 5 take the exam on 10 Jun. Index number 6 to 10 take it on 11 Jun. <br/>\n",
        "Students from Class B, index number 1 to 4 take the exam on 12 Jun. Index number 5 to 10 take it on 13 Jun."
      ]
    },
    {
      "cell_type": "code",
      "execution_count": null,
      "metadata": {
        "id": "_otyNHfawQnd",
        "outputId": "e2a3566b-f4d4-43d4-a3e4-8257f3a7ab10"
      },
      "outputs": [
        {
          "name": "stdout",
          "output_type": "stream",
          "text": [
            "What is your class? A or B: B\n",
            "What is your index number? 1 - 10: 4\n",
            "Your exam is on the 12 Jun.\n"
          ]
        }
      ],
      "source": [
        "myclass = input(\"What is your class? A or B: \")\n",
        "myindex = input(\"What is your index number? 1 - 10: \")\n",
        "myindex = int(myindex)\n",
        "\n",
        "if myclass == 'A' and myindex <= 5:\n",
        "    print(\"Your exam is on the 10 Jun.\")\n",
        "elif myclass == 'A' and myindex >= 6:\n",
        "    print(\"Your exam is on the 11 Jun.\")\n",
        "elif myclass == 'B' and myindex <= 4:\n",
        "    print(\"Your exam is on the 12 Jun.\")\n",
        "elif myclass == 'B' and myindex >= 5:\n",
        "    print(\"Your exam is on the 13 Jun.\")"
      ]
    },
    {
      "cell_type": "markdown",
      "metadata": {
        "id": "xSFHO_NgwQnd"
      },
      "source": [
        "> while loop allows you to continously loop through code segments until a condition is met. Here, the condition is for counter to be equal to 0, or less for it to stop."
      ]
    },
    {
      "cell_type": "code",
      "execution_count": null,
      "metadata": {
        "id": "bVm_5KK8wQnd",
        "outputId": "7cc8a813-ce19-461a-93c0-8abc85635813"
      },
      "outputs": [
        {
          "name": "stdout",
          "output_type": "stream",
          "text": [
            "5\n",
            "4\n",
            "3\n",
            "2\n",
            "1\n"
          ]
        }
      ],
      "source": [
        "counter = 5\n",
        "while counter > 0:\n",
        "    print(counter)\n",
        "    counter = counter - 1"
      ]
    },
    {
      "cell_type": "markdown",
      "metadata": {
        "id": "u0ORxSC9wQnd"
      },
      "source": [
        "> you can combine the input function with the while loop to make it more interesting."
      ]
    },
    {
      "cell_type": "code",
      "execution_count": null,
      "metadata": {
        "id": "idrd891KwQne",
        "outputId": "3d03d6e9-d814-454f-def3-3b308cbfa021"
      },
      "outputs": [
        {
          "name": "stdout",
          "output_type": "stream",
          "text": [
            "[sings] La la la la la\n",
            "stop\n"
          ]
        }
      ],
      "source": [
        "command = \"\"\n",
        "while command != \"stop\":\n",
        "    print(\"[sings] La la la la la\")\n",
        "    command = input()"
      ]
    },
    {
      "cell_type": "markdown",
      "metadata": {
        "id": "21twQNNCwQne"
      },
      "source": [
        "> The for loop runs for a fixed number of iterations. We use something like a list to loop over."
      ]
    },
    {
      "cell_type": "code",
      "execution_count": null,
      "metadata": {
        "id": "LiTcrn2dwQne",
        "outputId": "93a5b670-6561-40a9-8225-79df1f606768"
      },
      "outputs": [
        {
          "name": "stdout",
          "output_type": "stream",
          "text": [
            "1\n",
            "2\n",
            "3\n",
            "4\n",
            "5\n"
          ]
        }
      ],
      "source": [
        "for i in [1,2,3,4,5]:\n",
        "    print(i)"
      ]
    },
    {
      "cell_type": "markdown",
      "metadata": {
        "id": "ci1srxunwQne"
      },
      "source": [
        "> range(x) is a function that returns you a list which runs from 0 to x-1"
      ]
    },
    {
      "cell_type": "code",
      "execution_count": null,
      "metadata": {
        "id": "S5zATA4nwQne"
      },
      "outputs": [],
      "source": [
        "#range(5) --> [0,1,2,3,4]\n",
        "#range(5,10) --> [5,6,7,8,9]"
      ]
    },
    {
      "cell_type": "code",
      "execution_count": null,
      "metadata": {
        "id": "HL11OyxFwQne",
        "outputId": "d3c4c669-b478-4ce9-bfd2-514cdf5e5658"
      },
      "outputs": [
        {
          "name": "stdout",
          "output_type": "stream",
          "text": [
            "0\n",
            "1\n",
            "2\n",
            "3\n",
            "4\n"
          ]
        }
      ],
      "source": [
        "for i in range(5):\n",
        "    print(i)"
      ]
    },
    {
      "cell_type": "code",
      "execution_count": null,
      "metadata": {
        "id": "rucDGsl4wQne",
        "outputId": "ecb01f02-6578-472c-97e8-5a07224c3f0e"
      },
      "outputs": [
        {
          "name": "stdout",
          "output_type": "stream",
          "text": [
            "0\n",
            "1\n",
            "2\n",
            "3\n",
            "4\n"
          ]
        }
      ],
      "source": [
        "for i in [0,1,2,3,4]:\n",
        "    print(i)"
      ]
    },
    {
      "cell_type": "code",
      "execution_count": null,
      "metadata": {
        "id": "XIOdQoajwQne",
        "outputId": "8282bb94-c1f3-44a1-dca3-bb03f106b0f9"
      },
      "outputs": [
        {
          "name": "stdout",
          "output_type": "stream",
          "text": [
            "5\n",
            "6\n",
            "7\n",
            "8\n",
            "9\n"
          ]
        }
      ],
      "source": [
        "for i in range(5,10):\n",
        "    print(i)"
      ]
    },
    {
      "cell_type": "code",
      "execution_count": null,
      "metadata": {
        "id": "1ey8BNhxwQne",
        "outputId": "09aa6282-c783-44de-ce20-38340c83b44f"
      },
      "outputs": [
        {
          "name": "stdout",
          "output_type": "stream",
          "text": [
            "5\n",
            "6\n",
            "7\n",
            "8\n",
            "9\n"
          ]
        }
      ],
      "source": [
        "for i in [5,6,7,8,9]:\n",
        "    print(i)"
      ]
    },
    {
      "cell_type": "code",
      "execution_count": null,
      "metadata": {
        "id": "gjMgiJ6FwQne",
        "outputId": "26e48f9c-f6f1-41a7-cb0e-5de944b8acbc"
      },
      "outputs": [
        {
          "name": "stdout",
          "output_type": "stream",
          "text": [
            "1\n",
            "2\n",
            "3\n",
            "4\n",
            "5\n"
          ]
        }
      ],
      "source": [
        "x = [1,2,3,4,5]\n",
        "for i in x:\n",
        "    print(i)"
      ]
    },
    {
      "cell_type": "markdown",
      "metadata": {
        "id": "30CuHgL2wQne"
      },
      "source": [
        ">len of a list gives you the number of elements in a list."
      ]
    },
    {
      "cell_type": "code",
      "execution_count": null,
      "metadata": {
        "id": "xUaldVxPwQnf",
        "outputId": "e3300ed2-5acc-4a46-bd24-9653df58d5a4"
      },
      "outputs": [
        {
          "data": {
            "text/plain": [
              "5"
            ]
          },
          "execution_count": 85,
          "metadata": {},
          "output_type": "execute_result"
        }
      ],
      "source": [
        "len(x)"
      ]
    },
    {
      "cell_type": "markdown",
      "metadata": {
        "id": "LiKzmk3lwQnf"
      },
      "source": [
        "> What is the difference between this and the previous way of iterating through a list?"
      ]
    },
    {
      "cell_type": "code",
      "execution_count": null,
      "metadata": {
        "id": "zwPtbTWUwQnf",
        "outputId": "02a43a00-60b5-4e8a-faac-b883a4e01911"
      },
      "outputs": [
        {
          "name": "stdout",
          "output_type": "stream",
          "text": [
            "1\n",
            "2\n",
            "3\n",
            "4\n",
            "5\n"
          ]
        }
      ],
      "source": [
        "x = [1,2,3,4,5]\n",
        "for i in range( len(x) ):\n",
        "    print(x[i])"
      ]
    },
    {
      "cell_type": "markdown",
      "metadata": {
        "id": "V75E7CDvwQnf"
      },
      "source": [
        "> You use this approach when you want to modify the contents of the list."
      ]
    },
    {
      "cell_type": "code",
      "execution_count": null,
      "metadata": {
        "id": "0s4C53RXwQnf",
        "outputId": "26d85241-8e9f-4ec4-e497-3b2f7b3afdde"
      },
      "outputs": [
        {
          "name": "stdout",
          "output_type": "stream",
          "text": [
            "[1, 2, 10, 4, 5]\n"
          ]
        }
      ],
      "source": [
        "for i in range( len(x) ):\n",
        "    item = x[i]\n",
        "    if item == 3:\n",
        "        x[i] = 10\n",
        "print(x)"
      ]
    },
    {
      "cell_type": "markdown",
      "metadata": {
        "id": "daYJQL6zwQnf"
      },
      "source": [
        "> Iterating with the old way does not allow you to modify the contents"
      ]
    },
    {
      "cell_type": "code",
      "execution_count": null,
      "metadata": {
        "id": "OrXvPT2_wQnf",
        "outputId": "6e0203f3-a270-481e-d0b5-d565b20b7013"
      },
      "outputs": [
        {
          "name": "stdout",
          "output_type": "stream",
          "text": [
            "[1, 2, 3, 4, 5]\n"
          ]
        }
      ],
      "source": [
        "x = [1,2,3,4,5]\n",
        "for i in x:\n",
        "    if i == 3:\n",
        "        i = 10\n",
        "print(x)"
      ]
    },
    {
      "cell_type": "markdown",
      "metadata": {
        "id": "wQ7Y0LmMwQnf"
      },
      "source": [
        "# !! Your Turn !!"
      ]
    },
    {
      "cell_type": "markdown",
      "metadata": {
        "id": "vZToJTPewQnf"
      },
      "source": [
        "## Replace the code marked as <..> COMPLETELY with your own.\n",
        "For example:\n",
        "length = <..> will be replaced by length = 10"
      ]
    },
    {
      "cell_type": "markdown",
      "metadata": {
        "id": "_vhumLorwQnf"
      },
      "source": [
        "# Question 0 "
      ]
    },
    {
      "cell_type": "code",
      "execution_count": null,
      "metadata": {
        "id": "0nS8PEJowQnf",
        "outputId": "233b8dcf-b642-433e-c14e-d7d02b2008fd"
      },
      "outputs": [
        {
          "name": "stdout",
          "output_type": "stream",
          "text": [
            "type in your full nameC\n",
            "C\n"
          ]
        }
      ],
      "source": [
        "name = input(\"type in your full name\")\n",
        "print(name)"
      ]
    },
    {
      "cell_type": "markdown",
      "metadata": {
        "id": "9XPY6S99wQnf"
      },
      "source": [
        "# Question 1\n",
        "1) x % 2 == 0 returns True if x is an even number<br/>\n",
        "2) Declare a variable, <b>x</b> that stores a number of your choice.<br/>\n",
        "3) write the if-else statements such that if x is an even number, print \"x is an even number\". if it is not, print that it is an odd number."
      ]
    },
    {
      "cell_type": "code",
      "execution_count": null,
      "metadata": {
        "id": "ttxDDOnSwQng",
        "outputId": "4871adb1-ec49-4433-f553-24372dbd66dd"
      },
      "outputs": [
        {
          "name": "stdout",
          "output_type": "stream",
          "text": [
            "3 is an odd number\n"
          ]
        }
      ],
      "source": [
        "x = 3 #can be any value\n",
        "if x%2 == 0:\n",
        "    print(f'{x} is an even number')\n",
        "else:\n",
        "    print(f'{x} is an odd number')"
      ]
    },
    {
      "cell_type": "markdown",
      "metadata": {
        "id": "iQq170trwQng"
      },
      "source": [
        "# Question 2\n",
        "1) Declare a variable, <b>score</b> that stores a number of your choice from 0 to 100.<br/>\n",
        "2) print out the respective letter grade for your score.<br/>\n",
        "A is $\\geq$ 75<br/>\n",
        "B is 60 to 74<br/>\n",
        "C is 50 to 59<br/>\n",
        "F is < 50<br/>"
      ]
    },
    {
      "cell_type": "code",
      "execution_count": null,
      "metadata": {
        "id": "z3T2GlDuwQng",
        "outputId": "e1d7fcc4-7c2f-446c-f99c-681e929d231e"
      },
      "outputs": [
        {
          "name": "stdout",
          "output_type": "stream",
          "text": [
            "A\n"
          ]
        }
      ],
      "source": [
        "score = 76 #can be any value from 0 to 100\n",
        "\n",
        "if score >= 75:\n",
        "    print(\"A\")\n",
        "elif score >= 60:\n",
        "    print(\"B\")\n",
        "elif score >= 50:\n",
        "    print(\"C\")\n",
        "else:\n",
        "    print(\"F\")"
      ]
    },
    {
      "cell_type": "markdown",
      "metadata": {
        "id": "8xje1iPmwQng"
      },
      "source": [
        "# Question 3\n",
        "1) Declare a variable, <b>citizen</b> and store a value of True or False (you choose)<br/>\n",
        "2) Declare a variable, <b>special_event</b> and store a value True or False (you choose)<br/>\n",
        "3) Write the logic for the following: <br/><br/>\n",
        "\n",
        "if a person is a citizen and there is a special event, print out 'Enter museum for free'<br/>\n",
        "if a person is a citzen and there is no special event, print out 'Pay 10 dollars'<br/>\n",
        "if a person is not a citizen and there is a special event, print out 'Pay 25 dollars'<br/>\n",
        "if a person is not a citizen and there is no special event, print out 'Pay 50 dollars'<br/>"
      ]
    },
    {
      "cell_type": "code",
      "execution_count": null,
      "metadata": {
        "id": "mvb9R_57wQng",
        "outputId": "f2b3c040-5bf2-43d6-ad17-98e862cd3c47"
      },
      "outputs": [
        {
          "name": "stdout",
          "output_type": "stream",
          "text": [
            "Can enter museum for free\n"
          ]
        }
      ],
      "source": [
        "citizen = True\n",
        "special_event = True\n",
        "\n",
        "if citizen == True and special_event == True:\n",
        "    print(\"Can enter museum for free\")\n",
        "elif citizen == True and special_event == False:\n",
        "    print(\"Pay $10\")\n",
        "elif citizen == False and special_event == True:\n",
        "    print(\"Pay $25\")\n",
        "elif citizen == False and special_event == False:\n",
        "    print(\"Pay $50\")"
      ]
    },
    {
      "cell_type": "markdown",
      "metadata": {
        "id": "yqsSAPsPwQng"
      },
      "source": [
        "# Question 4\n",
        "1) Code out the following:<br/><br/>\n",
        "   Prompt for an input for \"Coffee or Tea\".<br/>\n",
        "   If the input is \"Coffee\", print out \"Starbucks is to your right.\"<br/>\n",
        "   Else if the input is \"Tea\", print out \"TWG cafe is to your left.\"<br/>\n",
        "   If the input is anything else, print out \"I don't understand you.\"<br/>"
      ]
    },
    {
      "cell_type": "code",
      "execution_count": null,
      "metadata": {
        "id": "sXN9IyU5wQng",
        "outputId": "1f3f3306-03dd-493a-ba2e-51d59c7f79b5"
      },
      "outputs": [
        {
          "name": "stdout",
          "output_type": "stream",
          "text": [
            "Coffee or Tea? Tea\n",
            "TWG cafe is to your left.\n"
          ]
        }
      ],
      "source": [
        "selection = input(\"Coffee or Tea? \")\n",
        "if selection == 'Coffee':\n",
        "    print(\"Starbucks is to your right.\")\n",
        "elif selection == 'Tea':\n",
        "    print(\"TWG cafe is to your left.\")\n",
        "else:\n",
        "    print(\"I don't understand you.\")"
      ]
    },
    {
      "cell_type": "markdown",
      "metadata": {
        "id": "I1fWVCDMwQng"
      },
      "source": [
        "# Question 5\n",
        "1) Improve upon your answer in Question 4 using the str methods, such that even if you type in 'coffee' or 'CoFFee' or 'COFFEE', the code will still work."
      ]
    },
    {
      "cell_type": "code",
      "execution_count": null,
      "metadata": {
        "id": "PVHGrAZqwQng",
        "outputId": "971a7935-f827-4dc2-a6bf-dc366fab9de6"
      },
      "outputs": [
        {
          "name": "stdout",
          "output_type": "stream",
          "text": [
            "Coffee or Tea? teA\n",
            "TWG cafe is to your left.\n"
          ]
        }
      ],
      "source": [
        "selection = input(\"Coffee or Tea? \").lower()\n",
        "if selection == 'coffee':\n",
        "    print(\"Starbucks is to your right.\")\n",
        "elif selection == 'tea':\n",
        "    print(\"TWG cafe is to your left.\")\n",
        "else:\n",
        "    print(\"I don't understand you.\")"
      ]
    },
    {
      "cell_type": "markdown",
      "metadata": {
        "id": "RvQu7xVzwQnh"
      },
      "source": [
        "# Question 6"
      ]
    },
    {
      "cell_type": "markdown",
      "metadata": {
        "id": "FE0hHwmtwQnh"
      },
      "source": [
        "1) Print out \"Hello\" 5 times using a for loop. <br/>\n",
        "Hint: range(x) creates a sequence of numbers from 0 to x-1"
      ]
    },
    {
      "cell_type": "code",
      "execution_count": null,
      "metadata": {
        "id": "KxlKRgrOwQnh",
        "outputId": "dc563a3a-405e-497e-d1f1-b295a531288b"
      },
      "outputs": [
        {
          "name": "stdout",
          "output_type": "stream",
          "text": [
            "Hello\n",
            "Hello\n",
            "Hello\n",
            "Hello\n",
            "Hello\n"
          ]
        }
      ],
      "source": [
        "for i in range(5):\n",
        "   print('Hello')"
      ]
    },
    {
      "cell_type": "markdown",
      "metadata": {
        "id": "Cs-5mC_WwQnh"
      },
      "source": [
        "2) Print out \"Hello\" 5 times using a while loop. <br/>\n",
        "Hint: <b>x -= 1</b> is the same as <b>x = x - 1</b>. We call this \"syntactic sugar\"."
      ]
    },
    {
      "cell_type": "code",
      "execution_count": null,
      "metadata": {
        "id": "cAsFSr2YwQnh",
        "outputId": "13115413-085e-41ef-e9f4-dd6bfc5b98d0"
      },
      "outputs": [
        {
          "name": "stdout",
          "output_type": "stream",
          "text": [
            "Hello\n",
            "Hello\n",
            "Hello\n",
            "Hello\n",
            "Hello\n"
          ]
        }
      ],
      "source": [
        "counter = 5\n",
        "while counter > 0:\n",
        "    print('Hello')\n",
        "    counter -= 1"
      ]
    },
    {
      "cell_type": "markdown",
      "metadata": {
        "id": "yqpLDa4ewQnh"
      },
      "source": [
        "# Question 7\n",
        "1) Create a list of numbers 1 to 20 into a variable, <b>numbers</b>. <br/>\n",
        "2) Write a for loop to print out all the numbers."
      ]
    },
    {
      "cell_type": "code",
      "execution_count": null,
      "metadata": {
        "id": "IRXMRhy5wQnh",
        "outputId": "b5d6c7eb-7cc5-4704-d64e-68e71a77a38e"
      },
      "outputs": [
        {
          "name": "stdout",
          "output_type": "stream",
          "text": [
            "1\n",
            "2\n",
            "3\n",
            "4\n",
            "5\n",
            "6\n",
            "7\n",
            "8\n",
            "9\n",
            "10\n",
            "11\n",
            "12\n",
            "13\n",
            "14\n",
            "15\n",
            "16\n",
            "17\n",
            "18\n",
            "19\n",
            "20\n"
          ]
        }
      ],
      "source": [
        "numbers = range(1,21) # or numbers = range(1,21)\n",
        "\n",
        "for i in numbers:\n",
        "    print(i)"
      ]
    },
    {
      "cell_type": "markdown",
      "metadata": {
        "id": "9s-t7rANwQnh"
      },
      "source": [
        "3) Write a for loop which prints out ONLY the Even numbers."
      ]
    },
    {
      "cell_type": "code",
      "execution_count": null,
      "metadata": {
        "id": "3BKVp3SnwQnh",
        "outputId": "2ae32b1d-4e51-4b77-eec9-f2d411105acd"
      },
      "outputs": [
        {
          "name": "stdout",
          "output_type": "stream",
          "text": [
            "2\n",
            "4\n",
            "6\n",
            "8\n",
            "10\n",
            "12\n",
            "14\n",
            "16\n",
            "18\n",
            "20\n"
          ]
        }
      ],
      "source": [
        "for i in range(1,21):\n",
        "    if i % 2 == 0:\n",
        "        print(i)"
      ]
    },
    {
      "cell_type": "markdown",
      "metadata": {
        "id": "YU4S5P-3wQnh"
      },
      "source": [
        "4) Write a for loop which prints out ONLY the Odd numbers."
      ]
    },
    {
      "cell_type": "code",
      "execution_count": null,
      "metadata": {
        "id": "JJAP3D4jwQnh",
        "outputId": "e284ea27-92ba-4cf7-bd13-0815505f54cc"
      },
      "outputs": [
        {
          "name": "stdout",
          "output_type": "stream",
          "text": [
            "1\n",
            "3\n",
            "5\n",
            "7\n",
            "9\n",
            "11\n",
            "13\n",
            "15\n",
            "17\n",
            "19\n"
          ]
        }
      ],
      "source": [
        "for i in range(1,21):\n",
        "    if i % 2 != 0:\n",
        "        print(i)"
      ]
    },
    {
      "cell_type": "markdown",
      "metadata": {
        "id": "Q9VsY0ZiwQnh"
      },
      "source": [
        "# Question 8 *\n",
        "1) Code out the following:<br/>\n",
        "    (to check if x is divisible by y, use x % y == 0)<br/><br/>\n",
        "   Prompt for an input to check if a particular year is a leap year.<br/>\n",
        "   Convert the input into an integer.<br/>\n",
        "   If the year is not divisible by 4, it is not a leap year. (e.g. 1997)<br/>\n",
        "   If the year is divisble by 4, it is a leap year unless: <br/>\n",
        "   It is divisible by 100 and not divisible by 400 (e.g. 2012)<br/>"
      ]
    },
    {
      "cell_type": "code",
      "execution_count": null,
      "metadata": {
        "id": "daFuq5l-wQni",
        "outputId": "d4cbe117-9f9b-4d04-f0e8-d3e156615394"
      },
      "outputs": [
        {
          "name": "stdout",
          "output_type": "stream",
          "text": [
            "Input the year: 1400\n",
            "1400 is a not leap year\n"
          ]
        }
      ],
      "source": [
        "year = input(\"Input the year: \")\n",
        "year = int(year)\n",
        "\n",
        "if year % 4 != 0:\n",
        "    print(year,\"is not a leap year\")\n",
        "elif year % 4 == 0:\n",
        "    if year %100 == 0 and year %400 !=0:\n",
        "        print(year,\"is a not leap year\")\n",
        "    else:\n",
        "        print(year,\"is a leap year\")"
      ]
    },
    {
      "cell_type": "markdown",
      "metadata": {
        "id": "wwQbloA7wQni"
      },
      "source": [
        "<i>Notes: Reference for leap year logic - http://www.mathsisfun.com/leap-years.html</i>"
      ]
    },
    {
      "cell_type": "markdown",
      "metadata": {
        "id": "88utN31vwQni"
      },
      "source": [
        "# Question 9 *\n",
        "1) Create a list of 5 birthdays (your choice in DDMMYYYY format) and store them into a list, <b>birthdays</b>. <br/>\n",
        "2) Write a for loop to print out all the birthdays."
      ]
    },
    {
      "cell_type": "code",
      "execution_count": null,
      "metadata": {
        "id": "KvY7MWYVwQni"
      },
      "outputs": [],
      "source": [
        "birthdays = ['01011999', '02022000', '03032003', '04042004', '05052005']"
      ]
    },
    {
      "cell_type": "markdown",
      "metadata": {
        "id": "rJMujK3EwQni"
      },
      "source": [
        "3) Write a for loop to extract out the last 4 characters of the birthdays and print them out only."
      ]
    },
    {
      "cell_type": "code",
      "execution_count": null,
      "metadata": {
        "id": "WEZT7LxewQni",
        "outputId": "6173d46e-5b65-46f7-f10e-d876e801b751"
      },
      "outputs": [
        {
          "name": "stdout",
          "output_type": "stream",
          "text": [
            "1999\n",
            "2000\n",
            "2003\n",
            "2004\n",
            "2005\n"
          ]
        }
      ],
      "source": [
        "for i in birthdays:\n",
        "    print(i[-4:])"
      ]
    },
    {
      "cell_type": "markdown",
      "metadata": {
        "id": "wEZUMmL_wQni"
      },
      "source": [
        "4) Write a for loop to print out the birthday, and the corresponding age this year. Consider only the year of birth, can ignore the days and months.<br/>\n",
        "for example:<br/>\n",
        "10101975 --> 45<br/>\n",
        "01051990 --> 30<br/>"
      ]
    },
    {
      "cell_type": "code",
      "execution_count": null,
      "metadata": {
        "id": "eOSJBdpWwQni",
        "outputId": "29995655-e287-47a4-f532-20430990830e"
      },
      "outputs": [
        {
          "name": "stdout",
          "output_type": "stream",
          "text": [
            "24\n",
            "23\n",
            "20\n",
            "19\n",
            "18\n"
          ]
        }
      ],
      "source": [
        "for i in birthdays:\n",
        "    print(2023 - int(i[-4:]))"
      ]
    },
    {
      "cell_type": "markdown",
      "metadata": {
        "id": "KceB75vTwQni"
      },
      "source": [
        "5) Convert the list of birthdays into a list of ages<br/>\n",
        "For example:<br/>\n",
        "Before Conversion<br/>\n",
        "['10101975', '01051990', '22112000', '12042010', '01011999']<br/>\n",
        "After Conversion<br/>\n",
        "[45, 30, 20, 10, 21]<br/><br/>\n",
        "\n",
        "6) Print out the variable, birthdays to verify."
      ]
    },
    {
      "cell_type": "code",
      "execution_count": null,
      "metadata": {
        "id": "BEqbkLrowQni",
        "outputId": "a55b2e92-f856-4fa4-cc1d-6d12f577769b"
      },
      "outputs": [
        {
          "name": "stdout",
          "output_type": "stream",
          "text": [
            "Before Conversion\n",
            "['01011999', '02022000', '03032003', '04042004', '05052005']\n",
            "After Conversion\n",
            "[24, 23, 20, 19, 18]\n"
          ]
        }
      ],
      "source": [
        "print(\"Before Conversion\")\n",
        "print(birthdays)\n",
        "print(\"After Conversion\")\n",
        "b_list = []\n",
        "for i in birthdays:\n",
        "    b_list.append(2023 - int(i[-4:]))\n",
        "print(b_list)"
      ]
    },
    {
      "cell_type": "markdown",
      "metadata": {
        "id": "ZaTd6QNlwQnj"
      },
      "source": [
        "# Question 10 *"
      ]
    },
    {
      "cell_type": "markdown",
      "metadata": {
        "id": "N59Xg5wgwQnj"
      },
      "source": [
        "ASSUME THAT YOU DO NOT NEED TO DO ANY ERROR DETECTION<br/><br/>\n",
        "1) Write a while loop that:<br/>\n",
        "- asks the user 'What is your command?'<br/>\n",
        "- if the user's command is exit, then print out \"Exiting\" and exit out of the loop.\n",
        "- if the user's command is 'add', then print out \"Your command is add.\"\n",
        "- if the user's command is 'minus', then print out \"Your command is minus.\"<br/>\n",
        "- if the user keys in anything else, then print out \"Unknown command\"<br/><br/>\n",
        "\n",
        "<b>Sample Output:</b><br/>\n",
        "What is your command? add<br/>\n",
        "Your command is add<br/>\n",
        "What is your command? minus<br/>\n",
        "Your command is minus<br/>\n",
        "What is your command? hello<br/>\n",
        "Unknown command<br/>\n",
        "What is your command? exit<br/>\n",
        "Exiting<br/>"
      ]
    },
    {
      "cell_type": "code",
      "execution_count": null,
      "metadata": {
        "id": "fFzBUlNVwQnj",
        "outputId": "c4c714b8-5240-457a-e09c-888a51c5f19c"
      },
      "outputs": [
        {
          "name": "stdout",
          "output_type": "stream",
          "text": [
            "What is your command?exit\n",
            "Exiting\n"
          ]
        }
      ],
      "source": [
        "command = input(\"What is your command?\")\n",
        "while command != \"exit\":\n",
        "    if command == 'add':\n",
        "        print('Your command is add')\n",
        "        break\n",
        "    elif command == 'minus':\n",
        "        print('Your command is minus')\n",
        "        break\n",
        "    else:\n",
        "        print(\"Unknown command\")\n",
        "        break\n",
        "else:\n",
        "    print(\"Exiting\")"
      ]
    },
    {
      "cell_type": "markdown",
      "metadata": {
        "id": "1hPAaQzJwQnj"
      },
      "source": [
        "2) Let's enhance your code above into a program that can do addition.<br/>\n",
        "After you prompt for the command, if the user keys in 'add', then print out the result of both numbers added together.<br/><br/>\n",
        "<b>Sample Output</b><br/>\n",
        "What is your command? add<br/>\n",
        "Your command is add<br/>\n",
        "What is the first number? 2<br/>\n",
        "What is the second number? 3<br/>\n",
        "The answer is 5<br/>\n",
        "What is your command? exit<br/>\n",
        "Exiting<br/>"
      ]
    },
    {
      "cell_type": "code",
      "execution_count": null,
      "metadata": {
        "id": "5Gz_SP1WwQnj",
        "outputId": "b42c59ed-44a9-4b47-d92c-d247890fb6fe"
      },
      "outputs": [
        {
          "name": "stdout",
          "output_type": "stream",
          "text": [
            "What is your command?add\n",
            "Your command is add\n",
            "What is the first number?1\n",
            "What is the second number?2\n",
            "The answer is 3\n"
          ]
        }
      ],
      "source": [
        "command = input(\"What is your command?\")\n",
        "while command != \"exit\":\n",
        "    if command == 'add':\n",
        "        print('Your command is add')\n",
        "        x1 = input('What is the first number?' )\n",
        "        x2 = input('What is the second number?' )\n",
        "        ans = int(x1) + int(x2)\n",
        "        print(f'The answer is {ans}')\n",
        "        break\n",
        "    elif command == 'minus':\n",
        "        print('Your command is minus')\n",
        "        break\n",
        "    else:\n",
        "        print(\"Unknown command\")\n",
        "        break\n",
        "else:\n",
        "    print(\"Exiting\")"
      ]
    },
    {
      "cell_type": "markdown",
      "metadata": {
        "id": "qVfzV-ofwQnj"
      },
      "source": [
        "3) Add on to your program to be able to handle subraction.<br/><br/>\n",
        "\n",
        "<b>Sample Output</b><br/>\n",
        "What is your command? minus<br/>\n",
        "Your command is minus<br/>\n",
        "What is the first number? 10<br/>\n",
        "What is the second number? 5<br/>\n",
        "The answer is 5<br/>\n",
        "What is your command? exit<br/>\n",
        "Exiting<br/>"
      ]
    },
    {
      "cell_type": "code",
      "execution_count": null,
      "metadata": {
        "id": "U16Vu5I_wQnj",
        "outputId": "d0c16d58-8909-48b9-c2a5-2ea223c60b45"
      },
      "outputs": [
        {
          "name": "stdout",
          "output_type": "stream",
          "text": [
            "What is your command?minus\n",
            "Your command is minus\n",
            "What is the first number? 7\n",
            "What is the second number? 5\n",
            "The answer is 2\n"
          ]
        }
      ],
      "source": [
        "command = input(\"What is your command?\")\n",
        "while command != \"exit\":\n",
        "    if command == 'add':\n",
        "        print('Your command is add')\n",
        "        x1 = input('What is the first number? ')\n",
        "        x2 = input('What is the second number? ')\n",
        "        ans = int(x1) + int(x2)\n",
        "        print(f'The answer is {ans}')\n",
        "        break\n",
        "    elif command == 'minus':\n",
        "        print('Your command is minus')\n",
        "        x1 = input('What is the first number? ')\n",
        "        x2 = input('What is the second number? ')\n",
        "        ans = int(x1) - int(x2)\n",
        "        print(f'The answer is {ans}')\n",
        "        break\n",
        "    else:\n",
        "        print(\"Unknown command\")\n",
        "        break\n",
        "else:\n",
        "    print(\"Exiting\")"
      ]
    }
  ],
  "metadata": {
    "kernelspec": {
      "display_name": "Python 3 (ipykernel)",
      "language": "python",
      "name": "python3"
    },
    "language_info": {
      "codemirror_mode": {
        "name": "ipython",
        "version": 3
      },
      "file_extension": ".py",
      "mimetype": "text/x-python",
      "name": "python",
      "nbconvert_exporter": "python",
      "pygments_lexer": "ipython3",
      "version": "3.9.16"
    },
    "colab": {
      "provenance": [],
      "include_colab_link": true
    }
  },
  "nbformat": 4,
  "nbformat_minor": 0
}