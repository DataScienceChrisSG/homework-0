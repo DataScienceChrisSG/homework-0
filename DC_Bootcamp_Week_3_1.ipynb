{
  "cells": [
    {
      "cell_type": "markdown",
      "metadata": {
        "id": "view-in-github",
        "colab_type": "text"
      },
      "source": [
        "<a href=\"https://colab.research.google.com/github/DataScienceChrisSG/homework-0/blob/main/DC_Bootcamp_Week_3_1.ipynb\" target=\"_parent\"><img src=\"https://colab.research.google.com/assets/colab-badge.svg\" alt=\"Open In Colab\"/></a>"
      ]
    },
    {
      "cell_type": "markdown",
      "metadata": {
        "id": "r2rxxomn563o"
      },
      "source": [
        "# Functions"
      ]
    },
    {
      "cell_type": "markdown",
      "metadata": {
        "id": "7ZblSK4O563q"
      },
      "source": [
        "## Run The Following Code\n",
        "Hit SHIFT + ENTER when your cusor is inside the cell of code.<br/>"
      ]
    },
    {
      "cell_type": "markdown",
      "metadata": {
        "id": "0G6Hytl_563r"
      },
      "source": [
        "> You define a function as follows:"
      ]
    },
    {
      "cell_type": "code",
      "execution_count": null,
      "metadata": {
        "id": "oJfeLi-G563s"
      },
      "outputs": [],
      "source": [
        "def add(a, b):\n",
        "    c = a + b\n",
        "    return c"
      ]
    },
    {
      "cell_type": "markdown",
      "metadata": {
        "id": "Z3nlUIhk563s"
      },
      "source": [
        "> What you just did is to define a function called <b>add</b> that takes in two parameters <b>a</b> and <b>b</b>, and returns <b>c</b> which is a sum of the two parameters.\n",
        "> After defining a function, you can use it as many times as you want.<br/><br/>\n",
        "when you invoke/call a function, you just type out its name, followed by the brackets. If there are parameters, the parameters will be passed into the brackets."
      ]
    },
    {
      "cell_type": "code",
      "execution_count": null,
      "metadata": {
        "id": "bKZRcdW2563t",
        "outputId": "70fbee12-19ce-430a-b222-c3373bf8c9f9"
      },
      "outputs": [
        {
          "data": {
            "text/plain": [
              "3"
            ]
          },
          "execution_count": 2,
          "metadata": {},
          "output_type": "execute_result"
        }
      ],
      "source": [
        "add(1, 2)"
      ]
    },
    {
      "cell_type": "code",
      "execution_count": null,
      "metadata": {
        "id": "rOc1KUCy563u",
        "outputId": "b004e93f-2936-41fe-e419-1aca957bc60f"
      },
      "outputs": [
        {
          "data": {
            "text/plain": [
              "7"
            ]
          },
          "execution_count": 3,
          "metadata": {},
          "output_type": "execute_result"
        }
      ],
      "source": [
        "add(3,4)"
      ]
    },
    {
      "cell_type": "markdown",
      "metadata": {
        "id": "Pf4p5soT563u"
      },
      "source": [
        "> once your function returns, the code following the return statement will not run anymore.<br/>\n",
        "You can see that the statement \"Finished adding...\" never ran."
      ]
    },
    {
      "cell_type": "code",
      "execution_count": null,
      "metadata": {
        "id": "wcdYWXxJ563u"
      },
      "outputs": [],
      "source": [
        "def add_withprint(a, b):\n",
        "    print(\"Starting to add ...\")\n",
        "    c = a + b\n",
        "    return c\n",
        "    print(\"Finished adding...\")"
      ]
    },
    {
      "cell_type": "code",
      "execution_count": null,
      "metadata": {
        "id": "QgZnld2z563v",
        "outputId": "6279894e-daed-4bbb-e322-c1a6126f2e5a"
      },
      "outputs": [
        {
          "name": "stdout",
          "output_type": "stream",
          "text": [
            "Starting to add ...\n"
          ]
        },
        {
          "data": {
            "text/plain": [
              "3"
            ]
          },
          "execution_count": 5,
          "metadata": {},
          "output_type": "execute_result"
        }
      ],
      "source": [
        "add_withprint(1, 2)"
      ]
    },
    {
      "cell_type": "markdown",
      "metadata": {
        "id": "2dKlruUz563v"
      },
      "source": [
        "> A common newbie mistake is to define a function with the actual values you want to use. Like the following mistake:"
      ]
    },
    {
      "cell_type": "code",
      "execution_count": null,
      "metadata": {
        "id": "hnIkpsSo563v",
        "outputId": "b43a53ca-8718-4729-c2ad-62edf0997a21"
      },
      "outputs": [
        {
          "ename": "SyntaxError",
          "evalue": "invalid syntax (1254506422.py, line 1)",
          "output_type": "error",
          "traceback": [
            "\u001b[0;36m  Cell \u001b[0;32mIn[6], line 1\u001b[0;36m\u001b[0m\n\u001b[0;31m    def add_mistake(1,2):\u001b[0m\n\u001b[0m                    ^\u001b[0m\n\u001b[0;31mSyntaxError\u001b[0m\u001b[0;31m:\u001b[0m invalid syntax\n"
          ]
        }
      ],
      "source": [
        "def add_mistake(1,2):\n",
        "    return 3"
      ]
    },
    {
      "cell_type": "markdown",
      "metadata": {
        "id": "Fj8KCpYT563v"
      },
      "source": [
        "> There is no limit to the number of parameters you can take in. You can also write a function without any parameters. But there must only be at most <b>one</b> return statement. You can write a function without any return statements too."
      ]
    },
    {
      "cell_type": "code",
      "execution_count": null,
      "metadata": {
        "id": "v-NTMtKQ563v"
      },
      "outputs": [],
      "source": [
        "def basic_function():\n",
        "    print(\"this function does nothing.\")"
      ]
    },
    {
      "cell_type": "code",
      "execution_count": null,
      "metadata": {
        "id": "LQK7zzVu563w",
        "outputId": "31d242ab-47b5-4559-f4d2-cc43211779e1"
      },
      "outputs": [
        {
          "name": "stdout",
          "output_type": "stream",
          "text": [
            "this function does nothing.\n"
          ]
        }
      ],
      "source": [
        "basic_function()"
      ]
    },
    {
      "cell_type": "code",
      "execution_count": null,
      "metadata": {
        "id": "_TSdJxKW563w"
      },
      "outputs": [],
      "source": [
        "def super_add(a,b,c,d,e):\n",
        "    z = a + b + c + d + e\n",
        "    return z"
      ]
    },
    {
      "cell_type": "code",
      "execution_count": null,
      "metadata": {
        "id": "bEEGoyhs563w",
        "outputId": "5a1ce474-61af-4949-fb3d-1b19b4a45456"
      },
      "outputs": [
        {
          "data": {
            "text/plain": [
              "15"
            ]
          },
          "execution_count": 10,
          "metadata": {},
          "output_type": "execute_result"
        }
      ],
      "source": [
        "super_add(1,2,3,4,5)"
      ]
    },
    {
      "cell_type": "markdown",
      "metadata": {
        "id": "5QZ671vX563w"
      },
      "source": [
        "> Another common newbie mistake, which is harder to detect, is to use a print instead of a return. Like the following mistake:"
      ]
    },
    {
      "cell_type": "code",
      "execution_count": null,
      "metadata": {
        "id": "CFOVryf-563w"
      },
      "outputs": [],
      "source": [
        "def add_wrong(a,b):\n",
        "    c = a + b\n",
        "    print(c)"
      ]
    },
    {
      "cell_type": "code",
      "execution_count": null,
      "metadata": {
        "id": "UwU-frN5563w",
        "outputId": "8b75dcb3-fb2e-4cc8-8b5b-994b02b7e2ee"
      },
      "outputs": [
        {
          "name": "stdout",
          "output_type": "stream",
          "text": [
            "3\n"
          ]
        }
      ],
      "source": [
        "add_wrong(1,2)"
      ]
    },
    {
      "cell_type": "markdown",
      "metadata": {
        "id": "28Q5M-to563x"
      },
      "source": [
        "> Now, it looks like the result is the same, but notice that there is no \"Out\" in this one. But the earlier one using return has an \"Out\".\n",
        "> You will see what's the significance of this when you use functions like the below:"
      ]
    },
    {
      "cell_type": "code",
      "execution_count": null,
      "metadata": {
        "id": "g-q-I114563x",
        "outputId": "1ea04713-6740-4a4e-8b85-944269807c6d"
      },
      "outputs": [
        {
          "name": "stdout",
          "output_type": "stream",
          "text": [
            "3\n",
            "None\n"
          ]
        }
      ],
      "source": [
        "final_answer = add_wrong(1,2)\n",
        "print(final_answer)"
      ]
    },
    {
      "cell_type": "markdown",
      "metadata": {
        "id": "LS0QaXc5563x"
      },
      "source": [
        "> Notice that a 3 is printed out, then followed by a None. The 3 is printed out when the function add_wrong is being evaluated. Then when you print the variable <b>final_answer</b>, because there is nothing being returned, it contains <b>None</b> ... which means nothing.<br/><br/>\n",
        "This is the proper way that you should have defined and used the function."
      ]
    },
    {
      "cell_type": "code",
      "execution_count": null,
      "metadata": {
        "id": "h19uMjcb563x",
        "outputId": "c112012d-f2e2-48ae-e118-b30e53711f53"
      },
      "outputs": [
        {
          "name": "stdout",
          "output_type": "stream",
          "text": [
            "3\n"
          ]
        }
      ],
      "source": [
        "final_answer = add(1,2)\n",
        "print(final_answer)"
      ]
    },
    {
      "cell_type": "markdown",
      "metadata": {
        "id": "1G0LZsH5563y"
      },
      "source": [
        "> try ... except ... else ... finally clauses are usually to help you catch errors in your code, so your program doesn't crash. Run the following code and you realise that it causes some runtime error."
      ]
    },
    {
      "cell_type": "code",
      "execution_count": null,
      "metadata": {
        "id": "mglEOt1o563y",
        "outputId": "cb2576c7-9de6-4331-c161-edb751cd5549"
      },
      "outputs": [
        {
          "name": "stdout",
          "output_type": "stream",
          "text": [
            "doing some risky code...\n"
          ]
        },
        {
          "ename": "TypeError",
          "evalue": "unsupported operand type(s) for -: 'list' and 'int'",
          "output_type": "error",
          "traceback": [
            "\u001b[0;31m---------------------------------------------------------------------------\u001b[0m",
            "\u001b[0;31mTypeError\u001b[0m                                 Traceback (most recent call last)",
            "Cell \u001b[0;32mIn[15], line 4\u001b[0m\n\u001b[1;32m      1\u001b[0m \u001b[38;5;28mprint\u001b[39m(\u001b[38;5;124m\"\u001b[39m\u001b[38;5;124mdoing some risky code...\u001b[39m\u001b[38;5;124m\"\u001b[39m)\n\u001b[1;32m      3\u001b[0m data \u001b[38;5;241m=\u001b[39m [\u001b[38;5;241m1\u001b[39m,\u001b[38;5;241m2\u001b[39m,\u001b[38;5;241m3\u001b[39m]\n\u001b[0;32m----> 4\u001b[0m \u001b[38;5;28mprint\u001b[39m(\u001b[43mdata\u001b[49m\u001b[43m \u001b[49m\u001b[38;5;241;43m-\u001b[39;49m\u001b[43m \u001b[49m\u001b[38;5;241;43m2\u001b[39;49m)\n\u001b[1;32m      6\u001b[0m \u001b[38;5;28mprint\u001b[39m(\u001b[38;5;124m\"\u001b[39m\u001b[38;5;124mdone!\u001b[39m\u001b[38;5;124m\"\u001b[39m)\n",
            "\u001b[0;31mTypeError\u001b[0m: unsupported operand type(s) for -: 'list' and 'int'"
          ]
        }
      ],
      "source": [
        "print(\"doing some risky code...\")\n",
        "\n",
        "data = [1,2,3]\n",
        "print(data - 2)\n",
        "\n",
        "print(\"done!\")"
      ]
    },
    {
      "cell_type": "markdown",
      "metadata": {
        "id": "672m9VWX563y"
      },
      "source": [
        "> the statement \"done!\" was never printed out because your code crashed.<br/><br/>\n",
        "> if you enclose this within a try ... except ... else ... finally clause, your code will continue to run."
      ]
    },
    {
      "cell_type": "code",
      "execution_count": null,
      "metadata": {
        "id": "MMHkoHCU563y",
        "outputId": "c3e5a254-071b-4ea5-a92a-81e0a880c712"
      },
      "outputs": [
        {
          "name": "stdout",
          "output_type": "stream",
          "text": [
            "doing some risky code...\n",
            "An error is caught\n",
            "done!\n"
          ]
        }
      ],
      "source": [
        "print(\"doing some risky code...\")\n",
        "\n",
        "try:\n",
        "    data = [1,2,3]\n",
        "    print(data - 2)\n",
        "except:\n",
        "    print(\"An error is caught\")\n",
        "else:\n",
        "    print(\"No error!\")\n",
        "finally:\n",
        "    print(\"done!\")"
      ]
    },
    {
      "cell_type": "code",
      "execution_count": null,
      "metadata": {
        "id": "qRHCEh5D563z",
        "outputId": "d7258d9d-9685-43a1-d7f9-59b10884330c"
      },
      "outputs": [
        {
          "name": "stdout",
          "output_type": "stream",
          "text": [
            "doing some risky code...\n",
            "[1, 2, 3, 1, 2, 3]\n",
            "No error!\n",
            "done!\n"
          ]
        }
      ],
      "source": [
        "print(\"doing some risky code...\")\n",
        "\n",
        "try:\n",
        "    data = [1,2,3]\n",
        "    print(data * 2)\n",
        "except:\n",
        "    print(\"An error is caught\")\n",
        "else:\n",
        "    print(\"No error!\")\n",
        "finally:\n",
        "    print(\"done!\")"
      ]
    },
    {
      "cell_type": "markdown",
      "metadata": {
        "id": "wloXPHbq563z"
      },
      "source": [
        "> The simplest form is to just use try ... except"
      ]
    },
    {
      "cell_type": "code",
      "execution_count": null,
      "metadata": {
        "id": "W8ixVGW5563z",
        "outputId": "29e055c5-dda2-4c05-b2c9-332ff0189880"
      },
      "outputs": [
        {
          "name": "stdout",
          "output_type": "stream",
          "text": [
            "doing some risky code...\n",
            "An error is caught\n"
          ]
        }
      ],
      "source": [
        "print(\"doing some risky code...\")\n",
        "\n",
        "try:\n",
        "    data = [1,2,3]\n",
        "    print(data - 2)\n",
        "except:\n",
        "    print(\"An error is caught\")"
      ]
    },
    {
      "cell_type": "markdown",
      "metadata": {
        "id": "jGBEwpwh563z"
      },
      "source": [
        "# !! Your Turn !!"
      ]
    },
    {
      "cell_type": "markdown",
      "metadata": {
        "id": "bUK4BuRF563z"
      },
      "source": [
        "## Replace the code marked as <..> COMPLETELY with your own.\n",
        "For example:\n",
        "length = <..> will be replaced by length = 10"
      ]
    },
    {
      "cell_type": "code",
      "execution_count": null,
      "metadata": {
        "id": "8Q_z5sQC563z",
        "outputId": "d5e21f02-f6f1-469b-aba0-f28252a16fa4"
      },
      "outputs": [
        {
          "name": "stdout",
          "output_type": "stream",
          "text": [
            "type in your full nameC\n",
            "C\n"
          ]
        }
      ],
      "source": [
        "name = input(\"type in your full name\")\n",
        "print(name)"
      ]
    },
    {
      "cell_type": "markdown",
      "metadata": {
        "id": "snGR902a563z"
      },
      "source": [
        "# Question 1\n",
        "1) Define a simple function, <b>sayhi</b>, that prints out hello.<br/>\n",
        "2) Call the function."
      ]
    },
    {
      "cell_type": "code",
      "execution_count": null,
      "metadata": {
        "id": "_FIXTTu5563z",
        "outputId": "945d0889-47d3-4384-c4ef-0d05f82605f2"
      },
      "outputs": [
        {
          "name": "stdout",
          "output_type": "stream",
          "text": [
            "hello\n"
          ]
        }
      ],
      "source": [
        "def sayhi():\n",
        "    print('hello')\n",
        "    \n",
        "sayhi()"
      ]
    },
    {
      "cell_type": "markdown",
      "metadata": {
        "id": "5c9ShMo45630"
      },
      "source": [
        "# Question 2\n",
        "1) Modify the <b>sayhi</b> function to take in an argument, <b>name</b>.<br/>\n",
        "2) Modify the <b>sayhi</b> function such that when you call the function, it prints out Hello, followed by the name you passed in. <br/>\n",
        "3) For example, sayhi(\"John\") will produce<br/>\n",
        "Hello John"
      ]
    },
    {
      "cell_type": "code",
      "execution_count": null,
      "metadata": {
        "id": "2rOCAz815630",
        "outputId": "8683f5b2-5d11-4d42-95e9-08121e213cc5"
      },
      "outputs": [
        {
          "name": "stdout",
          "output_type": "stream",
          "text": [
            "Hello John\n"
          ]
        }
      ],
      "source": [
        "def sayhi(name):\n",
        "    print('Hello', name)\n",
        "    \n",
        "sayhi(\"John\")"
      ]
    },
    {
      "cell_type": "markdown",
      "metadata": {
        "id": "Z5hiJtKW5630"
      },
      "source": [
        "# Question 3\n",
        "1) Modify the <b>sayhi</b> function such that even when you do not pass in any argument into the parameter, it will say \"Hello sweetie\".<br/>\n",
        "2) For example:<br/>\n",
        "sayhi() will produce<br/>\n",
        "    Hello sweetie<br/><br/>\n",
        "sayhi(\"John\") will produce<br/>\n",
        "    Hello John"
      ]
    },
    {
      "cell_type": "code",
      "execution_count": null,
      "metadata": {
        "id": "lTlms7Ju5630"
      },
      "outputs": [],
      "source": [
        "def <..>(<..>=<..>):\n",
        "    <..>\n",
        "    \n",
        "sayhi()\n",
        "sayhi(\"John\")"
      ]
    },
    {
      "cell_type": "markdown",
      "metadata": {
        "id": "rFPVx7Hr5630"
      },
      "source": [
        "# Question 4\n",
        "1) 2 to the power of 3 is written as 2**3 in Python code.<br/>\n",
        "2) 2 is called the base.<br/>\n",
        "3) 3 is called the exponent.<br/>\n",
        "4) Write a function, <b>powerof</b>, that takes in two numbers (base and exponent), and output base to the power of exponent.<br/>\n",
        "5) Call the function with base = 3, exponent = 5<br/>"
      ]
    },
    {
      "cell_type": "code",
      "execution_count": null,
      "metadata": {
        "id": "jl9bshTx5630"
      },
      "outputs": [],
      "source": [
        "def powerof(base, expo):\n",
        "    return base ** expo"
      ]
    },
    {
      "cell_type": "code",
      "execution_count": null,
      "metadata": {
        "id": "mYNHd6oc5630",
        "outputId": "e6e618a7-9a25-4f1b-9b5f-fe138264e8c0"
      },
      "outputs": [
        {
          "data": {
            "text/plain": [
              "243"
            ]
          },
          "execution_count": 24,
          "metadata": {},
          "output_type": "execute_result"
        }
      ],
      "source": [
        "#test it out with this:\n",
        "powerof(3,5)\n",
        "\n",
        "#you should see an output of 243"
      ]
    },
    {
      "cell_type": "markdown",
      "metadata": {
        "id": "TutguLk95630"
      },
      "source": [
        "# Question 5\n",
        "1) Write a function, <b>magic</b>, that takes in two parameters:<br/>\n",
        "<b>numbers</b> (a list of numbers), and<br/>\n",
        "<b>factor</b> (an integer)<br/>\n",
        "2) First, write the function such that it simply returns (not print) out the list as it is."
      ]
    },
    {
      "cell_type": "code",
      "execution_count": null,
      "metadata": {
        "id": "eFQCuYl05630"
      },
      "outputs": [],
      "source": [
        "def magic(numbers, factor):\n",
        "    return numbers"
      ]
    },
    {
      "cell_type": "code",
      "execution_count": null,
      "metadata": {
        "id": "uC6h4XNU5630",
        "outputId": "0280ac6f-010b-4dfa-8da7-80248c289020"
      },
      "outputs": [
        {
          "data": {
            "text/plain": [
              "[1, 2, 3, 4, 5]"
            ]
          },
          "execution_count": 26,
          "metadata": {},
          "output_type": "execute_result"
        }
      ],
      "source": [
        "#test it out with this:\n",
        "magic([1,2,3,4,5],5)\n",
        "\n",
        "#you should see an output of [1,2,3,4,5]"
      ]
    },
    {
      "cell_type": "markdown",
      "metadata": {
        "id": "rYWd21Fm5631"
      },
      "source": [
        "3) Modify the function <b>magic</b> such that it multiplies the list with the factor, and returns the output."
      ]
    },
    {
      "cell_type": "code",
      "execution_count": null,
      "metadata": {
        "scrolled": true,
        "id": "KVT3G_M75631"
      },
      "outputs": [],
      "source": [
        "def magic(numbers, factor):\n",
        "    for i in range(len(numbers)):\n",
        "        numbers[i] = numbers[i] * factor\n",
        "    return numbers"
      ]
    },
    {
      "cell_type": "code",
      "execution_count": null,
      "metadata": {
        "id": "1ZZrVtbj5631",
        "outputId": "646492f8-a758-44e0-bd60-05df159fff80"
      },
      "outputs": [
        {
          "data": {
            "text/plain": [
              "[5, 10, 15, 20, 25]"
            ]
          },
          "execution_count": 31,
          "metadata": {},
          "output_type": "execute_result"
        }
      ],
      "source": [
        "#test it out with this:\n",
        "magic([1,2,3,4,5],5)\n",
        "\n",
        "#you should see an output of [5, 10, 15, 20, 25]"
      ]
    },
    {
      "cell_type": "markdown",
      "metadata": {
        "id": "lbvPoJzo5631"
      },
      "source": [
        "4) call your magic function using magic(factor = 5, numbers = [1,2,3,4,5]) instead.<br/>\n",
        "Does it still work even though your paramters are in the wrong place?"
      ]
    },
    {
      "cell_type": "code",
      "execution_count": null,
      "metadata": {
        "id": "01UMb7yY5631",
        "outputId": "92983f58-b119-4725-8c10-a3f255b59bcf"
      },
      "outputs": [
        {
          "data": {
            "text/plain": [
              "[5, 10, 15, 20, 25]"
            ]
          },
          "execution_count": 32,
          "metadata": {},
          "output_type": "execute_result"
        }
      ],
      "source": [
        "magic(factor = 5, numbers = [1,2,3,4,5])"
      ]
    },
    {
      "cell_type": "markdown",
      "metadata": {
        "id": "tSLdct4X5631"
      },
      "source": [
        "# Question 6\n",
        "1) You can't write all functions you need by yourself. import helps you bring in libraries of functions written by others.<br/>\n",
        "2) Do an import for the random library and call it ran."
      ]
    },
    {
      "cell_type": "code",
      "execution_count": null,
      "metadata": {
        "id": "HqCPTyhO5631"
      },
      "outputs": [],
      "source": [
        "import random as ran"
      ]
    },
    {
      "cell_type": "markdown",
      "metadata": {
        "id": "34txHecC5631"
      },
      "source": [
        "3) Create a random integer from 1 to 100 and store it in a variable <b>lucky_num</b>. Run it a few times to make sure that it's \"truly\" random."
      ]
    },
    {
      "cell_type": "code",
      "execution_count": null,
      "metadata": {
        "id": "RSogGPxX5631",
        "outputId": "45d24e42-d7b1-49fb-e906-27c00a7b5501"
      },
      "outputs": [
        {
          "name": "stdout",
          "output_type": "stream",
          "text": [
            "44\n"
          ]
        }
      ],
      "source": [
        "lucky_num = ran.randint(1,100)\n",
        "print(lucky_num)"
      ]
    },
    {
      "cell_type": "markdown",
      "metadata": {
        "id": "ovn_ljh75631"
      },
      "source": [
        "4) Create a variable <b>guess</b> that stores an empty string at the onstart.<br/>\n",
        "5) Do a while loop that loops while guess is not equal to \"exit\".<br/>\n",
        "6) When the while loop runs, it asks for an input with the following prompt: \"Make a guess from 1 to 100. Type exit to stop. \"<br/>\n",
        "7) Then print out what the person's guess is. For example, if the person guessed 50, then print out<br/>\n",
        "You made a guess of 50"
      ]
    },
    {
      "cell_type": "code",
      "execution_count": null,
      "metadata": {
        "id": "YKmube5N5631",
        "outputId": "81a653e0-1974-4333-b196-df104a47423f"
      },
      "outputs": [
        {
          "name": "stdout",
          "output_type": "stream",
          "text": [
            "Make a guess from 1 to 100. Type exit to stop10\n",
            "You made a guess of 10\n",
            "Make a guess from 1 to 100. Type exit to stop20\n",
            "You made a guess of 20\n",
            "Make a guess from 1 to 100. Type exit to stop30\n",
            "You made a guess of 30\n",
            "Make a guess from 1 to 100. Type exit to stop40\n",
            "You made a guess of 40\n",
            "Make a guess from 1 to 100. Type exit to stopexit\n",
            "You made a guess of exit\n"
          ]
        }
      ],
      "source": [
        "guess = ''\n",
        "while guess != 'exit' :\n",
        "    guess = input('Make a guess from 1 to 100. Type exit to stop')\n",
        "    print('You made a guess of',guess)\n",
        "    "
      ]
    },
    {
      "cell_type": "markdown",
      "metadata": {
        "id": "9Xb_PsL65632"
      },
      "source": [
        "8) if the guess is the same as the lucky number, print out \"Congrats\" and break out of the while loop.<br/>\n",
        "Note: input takes in a string. Your earlier lucky number is an int. You need to cast them into the same data type before comparing."
      ]
    },
    {
      "cell_type": "code",
      "execution_count": null,
      "metadata": {
        "id": "SAb9Cle95632",
        "outputId": "2e0df559-7bc3-4011-921b-7a190d0b85c2"
      },
      "outputs": [
        {
          "name": "stdout",
          "output_type": "stream",
          "text": [
            "Make a guess from 1 to 100. Type exit to stop10\n",
            "You made a guess of 10\n",
            "Make a guess from 1 to 100. Type exit to stop20\n",
            "You made a guess of 20\n",
            "Make a guess from 1 to 100. Type exit to stop30\n",
            "You made a guess of 30\n",
            "Make a guess from 1 to 100. Type exit to stop40\n",
            "You made a guess of 40\n",
            "Make a guess from 1 to 100. Type exit to stop71\n",
            "You made a guess of 71\n",
            "Make a guess from 1 to 100. Type exit to stop1\n",
            "You made a guess of 1\n",
            "Make a guess from 1 to 100. Type exit to stop1\n",
            "You made a guess of 1\n",
            "Make a guess from 1 to 100. Type exit to stop1\n",
            "You made a guess of 1\n",
            "Make a guess from 1 to 100. Type exit to stop1\n",
            "You made a guess of 1\n",
            "Make a guess from 1 to 100. Type exit to stop1\n",
            "You made a guess of 1\n",
            "Make a guess from 1 to 100. Type exit to stop1\n",
            "You made a guess of 1\n",
            "Make a guess from 1 to 100. Type exit to stop1\n",
            "You made a guess of 1\n",
            "Make a guess from 1 to 100. Type exit to stop1\n",
            "You made a guess of 1\n",
            "Make a guess from 1 to 100. Type exit to stop1\n",
            "You made a guess of 1\n",
            "Make a guess from 1 to 100. Type exit to stop1\n",
            "You made a guess of 1\n",
            "Make a guess from 1 to 100. Type exit to stop1\n",
            "You made a guess of 1\n",
            "Make a guess from 1 to 100. Type exit to stop1\n",
            "You made a guess of 1\n",
            "Make a guess from 1 to 100. Type exit to stop1\n",
            "You made a guess of 1\n",
            "Make a guess from 1 to 100. Type exit to stop1\n",
            "You made a guess of 1\n",
            "Make a guess from 1 to 100. Type exit to stop1\n",
            "You made a guess of 1\n",
            "Make a guess from 1 to 100. Type exit to stop1\n",
            "You made a guess of 1\n",
            "Make a guess from 1 to 100. Type exit to stop1\n",
            "You made a guess of 1\n",
            "Make a guess from 1 to 100. Type exit to stop1\n",
            "You made a guess of 1\n",
            "Make a guess from 1 to 100. Type exit to stop1\n",
            "You made a guess of 1\n",
            "Make a guess from 1 to 100. Type exit to stop1\n",
            "You made a guess of 1\n",
            "Make a guess from 1 to 100. Type exit to stop1\n",
            "You made a guess of 1\n",
            "Make a guess from 1 to 100. Type exit to stop1\n",
            "You made a guess of 1\n",
            "Make a guess from 1 to 100. Type exit to stop1\n",
            "You made a guess of 1\n",
            "Make a guess from 1 to 100. Type exit to stop1\n",
            "You made a guess of 1\n",
            "Make a guess from 1 to 100. Type exit to stop1\n",
            "You made a guess of 1\n",
            "Make a guess from 1 to 100. Type exit to stop1\n",
            "You made a guess of 1\n",
            "Make a guess from 1 to 100. Type exit to stop1\n",
            "You made a guess of 1\n",
            "Make a guess from 1 to 100. Type exit to stop1\n",
            "You made a guess of 1\n",
            "Make a guess from 1 to 100. Type exit to stop1\n",
            "You made a guess of 1\n",
            "Make a guess from 1 to 100. Type exit to stop50\n",
            "You made a guess of 50\n",
            "Make a guess from 1 to 100. Type exit to stop50\n",
            "You made a guess of 50\n",
            "Make a guess from 1 to 100. Type exit to stop50\n",
            "You made a guess of 50\n",
            "Make a guess from 1 to 100. Type exit to stop50\n",
            "You made a guess of 50\n",
            "Make a guess from 1 to 100. Type exit to stop50\n",
            "You made a guess of 50\n",
            "Make a guess from 1 to 100. Type exit to stop50\n",
            "You made a guess of 50\n",
            "Make a guess from 1 to 100. Type exit to stop50\n",
            "You made a guess of 50\n",
            "Make a guess from 1 to 100. Type exit to stop50\n",
            "You made a guess of 50\n",
            "Make a guess from 1 to 100. Type exit to stop50\n",
            "You made a guess of 50\n",
            "Make a guess from 1 to 100. Type exit to stop50\n",
            "You made a guess of 50\n",
            "Make a guess from 1 to 100. Type exit to stop5\n",
            "You made a guess of 5\n",
            "Make a guess from 1 to 100. Type exit to stop50\n",
            "You made a guess of 50\n",
            "Make a guess from 1 to 100. Type exit to stop50\n",
            "You made a guess of 50\n",
            "Make a guess from 1 to 100. Type exit to stop50\n",
            "You made a guess of 50\n",
            "Make a guess from 1 to 100. Type exit to stop50\n",
            "You made a guess of 50\n",
            "Make a guess from 1 to 100. Type exit to stop50\n",
            "You made a guess of 50\n",
            "Make a guess from 1 to 100. Type exit to stop50\n",
            "You made a guess of 50\n",
            "Make a guess from 1 to 100. Type exit to stop50\n",
            "You made a guess of 50\n",
            "Make a guess from 1 to 100. Type exit to stop50\n",
            "You made a guess of 50\n",
            "Make a guess from 1 to 100. Type exit to stop50\n",
            "You made a guess of 50\n",
            "Make a guess from 1 to 100. Type exit to stop50\n",
            "You made a guess of 50\n",
            "Make a guess from 1 to 100. Type exit to stop50\n",
            "You made a guess of 50\n",
            "Make a guess from 1 to 100. Type exit to stop50\n",
            "You made a guess of 50\n",
            "Make a guess from 1 to 100. Type exit to stop50\n",
            "You made a guess of 50\n",
            "Make a guess from 1 to 100. Type exit to stop50\n",
            "You made a guess of 50\n",
            "Make a guess from 1 to 100. Type exit to stop50\n",
            "You made a guess of 50\n",
            "Make a guess from 1 to 100. Type exit to stop50\n",
            "You made a guess of 50\n",
            "Make a guess from 1 to 100. Type exit to stop50\n",
            "You made a guess of 50\n",
            "Make a guess from 1 to 100. Type exit to stop50\n",
            "You made a guess of 50\n",
            "Make a guess from 1 to 100. Type exit to stop50\n",
            "You made a guess of 50\n",
            "Make a guess from 1 to 100. Type exit to stopeixt\n",
            "You made a guess of eixt\n",
            "Make a guess from 1 to 100. Type exit to stopexit\n",
            "You made a guess of exit\n"
          ]
        }
      ],
      "source": [
        "guess = ''\n",
        "while guess != 'exit':\n",
        "    guess = input('Make a guess from 1 to 100. Type exit to stop')\n",
        "    print('You made a guess of',guess)\n",
        "    if guess == str(lucky_num):\n",
        "        print(\"Congrats\")\n",
        "        break"
      ]
    },
    {
      "cell_type": "markdown",
      "metadata": {
        "id": "9SvV2FqA5632"
      },
      "source": [
        "# Question 7 *\n",
        "1) Write a function, <b>splitter</b> that takes in an IC string, and outputs a tuple of the digits only.<br/>\n",
        "For example, if we do:<br/>\n",
        "a,b,c,d,e,f,g = splitter('S1234567D') <br/>\n",
        "a will store 1.<br/>\n",
        "b will store 2.<br/>\n",
        "...<br/>\n",
        "g will store 7.<br/>"
      ]
    },
    {
      "cell_type": "code",
      "execution_count": null,
      "metadata": {
        "id": "Hn2pmFRs5632"
      },
      "outputs": [],
      "source": [
        "def splitter(x):\n",
        "    a=x[1]\n",
        "    b=x[2]\n",
        "    c=x[3]\n",
        "    d=x[4]\n",
        "    e=x[5]\n",
        "    f=x[6]\n",
        "    g=x[7]\n",
        "    \n",
        "    return a,b,c,d,e,f,g"
      ]
    },
    {
      "cell_type": "code",
      "execution_count": null,
      "metadata": {
        "id": "6giSrnT85632",
        "outputId": "fe19db1c-291f-4b35-8ba2-7665eda7db72"
      },
      "outputs": [
        {
          "name": "stdout",
          "output_type": "stream",
          "text": [
            "7 6 5 4 3 2 1\n"
          ]
        }
      ],
      "source": [
        "#test your function here\n",
        "a,b,c,d,e,f,g = splitter('S7654321D')\n",
        "print(a,b,c,d,e,f,g)"
      ]
    },
    {
      "cell_type": "markdown",
      "metadata": {
        "id": "jRMQEwwZ5632"
      },
      "source": [
        "# Question 8 *"
      ]
    },
    {
      "cell_type": "markdown",
      "metadata": {
        "id": "vJ2Bh3AC5632"
      },
      "source": [
        "Modify the code in Question 6 such that you check if the user keys in an alphabet instead of a number, and alerts the user.<br/><br/>\n",
        "Sample Output:<br/>\n",
        "For testing purposes: 67<br/>\n",
        "Make a guess from 1 to 100. Type exit to stop. 10<br/>\n",
        "You made a guess of 10<br/>\n",
        "Make a guess from 1 to 100. Type exit to stop. abc<br/>\n",
        "Please only key in a number.<br/>\n",
        "Make a guess from 1 to 100. Type exit to stop. 67<br/>\n",
        "You made a guess of 67<br/>\n",
        "Congrats<br/>"
      ]
    },
    {
      "cell_type": "code",
      "execution_count": null,
      "metadata": {
        "id": "BW8cEVHc5632",
        "outputId": "5ff60e87-6208-4799-b51b-c6fc834b6950"
      },
      "outputs": [
        {
          "name": "stdout",
          "output_type": "stream",
          "text": [
            "For testing purposes: 44\n",
            "Make a guess from 1 to 100. Type exit to stop.100\n",
            "You made a guess of 100\n",
            "Make a guess from 1 to 100. Type exit to stop.44\n",
            "You made a guess of 44\n",
            "Congrats\n"
          ]
        }
      ],
      "source": [
        "import random as ran\n",
        "lucky_num = ran.randint(1,100)\n",
        "print(\"For testing purposes:\",lucky_num)\n",
        "\n",
        "guess = \"\"\n",
        "while guess != \"exit\":\n",
        "    guess = input(\"Make a guess from 1 to 100. Type exit to stop.\")\n",
        "    print('You made a guess of', str(guess))\n",
        "    try :\n",
        "        int(guess)\n",
        "    except:\n",
        "        print('Please only key in a number')\n",
        "    else:\n",
        "        if int(guess) == int(lucky_num):\n",
        "            print(\"Congrats\")\n",
        "            break"
      ]
    },
    {
      "cell_type": "markdown",
      "metadata": {
        "id": "KNk9on_n5632"
      },
      "source": [
        "# Question 9 *"
      ]
    },
    {
      "cell_type": "markdown",
      "metadata": {
        "id": "GISCXYsJ5633"
      },
      "source": [
        "Modify the code in Question 9 such that after the user makes a guess, you will prompt him whether his guess is too high or too low.<br/><br/>\n",
        "Sample Output<br/>\n",
        "For testing purposes: 68<br/>\n",
        "Make a guess from 1 to 100. Type exit to stop. 4<br/>\n",
        "You made a guess of 4<br/>\n",
        "Your guess is too low.<br/>\n",
        "Make a guess from 1 to 100. Type exit to stop. 99<br/>\n",
        "You made a guess of 99<br/>\n",
        "Your guess is too high.<br/>\n",
        "Make a guess from 1 to 100. Type exit to stop. 68<br/>\n",
        "You made a guess of 68<br/>\n",
        "Congrats<br/>"
      ]
    },
    {
      "cell_type": "code",
      "execution_count": null,
      "metadata": {
        "id": "15xbxLTN5633",
        "outputId": "cc8d0190-17da-43d9-8428-9a42597afb18"
      },
      "outputs": [
        {
          "name": "stdout",
          "output_type": "stream",
          "text": [
            "For testing purposes: 2\n",
            "Make a guess from 1 to 100. Type exit to stop.1\n",
            "You made a guess of 1\n",
            "Your guess is too low\n",
            "Make a guess from 1 to 100. Type exit to stop.3\n",
            "You made a guess of 3\n",
            "Your guess is too high\n",
            "Make a guess from 1 to 100. Type exit to stop.abc\n",
            "You made a guess of abc\n",
            "Please only key in a number\n",
            "Make a guess from 1 to 100. Type exit to stop.100\n",
            "You made a guess of 100\n",
            "Your guess is too high\n",
            "Make a guess from 1 to 100. Type exit to stop.2\n",
            "You made a guess of 2\n",
            "Congrats\n"
          ]
        }
      ],
      "source": [
        "import random as ran\n",
        "lucky_num = ran.randint(1,100)\n",
        "print(\"For testing purposes:\",lucky_num)\n",
        "\n",
        "guess = \"\"\n",
        "while guess != \"exit\":\n",
        "    guess = input(\"Make a guess from 1 to 100. Type exit to stop.\")\n",
        "    print('You made a guess of', str(guess))\n",
        "    try :\n",
        "        int(guess)\n",
        "    except:\n",
        "        print('Please only key in a number')\n",
        "    else:\n",
        "        if int(guess) == int(lucky_num):\n",
        "            print(\"Congrats\")\n",
        "            break\n",
        "        elif int(guess) > int(lucky_num):\n",
        "            print('Your guess is too high')\n",
        "        elif int(guess) < int(lucky_num):\n",
        "            print('Your guess is too low')       "
      ]
    }
  ],
  "metadata": {
    "kernelspec": {
      "display_name": "Python 3 (ipykernel)",
      "language": "python",
      "name": "python3"
    },
    "language_info": {
      "codemirror_mode": {
        "name": "ipython",
        "version": 3
      },
      "file_extension": ".py",
      "mimetype": "text/x-python",
      "name": "python",
      "nbconvert_exporter": "python",
      "pygments_lexer": "ipython3",
      "version": "3.9.16"
    },
    "colab": {
      "provenance": [],
      "include_colab_link": true
    }
  },
  "nbformat": 4,
  "nbformat_minor": 0
}